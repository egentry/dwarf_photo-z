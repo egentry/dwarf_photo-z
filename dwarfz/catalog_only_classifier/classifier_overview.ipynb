{
 "cells": [
  {
   "cell_type": "markdown",
   "metadata": {
    "deletable": true,
    "editable": true
   },
   "source": [
    "# What do I want?\n",
    "\n",
    "- Match COSMOS galaxies to HSC objects \n",
    "- Remove non-matched HSC objects\n",
    "- Create a classification based on COSMOS features\n",
    "    - (z < 0.15) and (M_stellar < 1e9 M_sun)\n",
    "- Use that COSMOS classification to create an HSC training set\n",
    "- Run Random Forest & Logistic Regression on that data set (pure HSC colors/fluxes! no COSMOS features)\n",
    "- Create confusion matrix\n",
    "    - in particular, we're interested in the completeness after the inferred cut\n",
    "\n",
    "## Next step?\n",
    "In `classifier_ROC_curves.ipynb` I explore these results in more depth, looking at how each algorithm (Random Forest and Logistic Regression) fare as a function of the probability cut."
   ]
  },
  {
   "cell_type": "markdown",
   "metadata": {
    "deletable": true,
    "editable": true
   },
   "source": [
    "# Code"
   ]
  },
  {
   "cell_type": "code",
   "execution_count": 1,
   "metadata": {
    "collapsed": false,
    "deletable": true,
    "editable": true
   },
   "outputs": [],
   "source": [
    "# give access to importing dwarfz\n",
    "import os, sys\n",
    "dwarfz_package_dir = os.getcwd().split(\"dwarfz\")[0]\n",
    "if dwarfz_package_dir not in sys.path:\n",
    "    sys.path.insert(0, dwarfz_package_dir)\n",
    "\n",
    "import dwarfz\n",
    "    \n",
    "# back to regular import statements\n",
    "\n",
    "%matplotlib inline\n",
    "from matplotlib import pyplot as plt\n",
    "\n",
    "import seaborn as sns\n",
    "sns.set(context=\"poster\", style=\"ticks\", font_scale=1.4)\n",
    "\n",
    "import numpy as np\n",
    "import pandas as pd"
   ]
  },
  {
   "cell_type": "code",
   "execution_count": 2,
   "metadata": {
    "collapsed": false,
    "deletable": true,
    "editable": true
   },
   "outputs": [],
   "source": [
    "COSMOS_filename = os.path.join(dwarfz.data_dir_default, \"COSMOS_reference.sqlite\")\n",
    "COSMOS = dwarfz.datasets.COSMOS(COSMOS_filename)"
   ]
  },
  {
   "cell_type": "code",
   "execution_count": 3,
   "metadata": {
    "collapsed": false,
    "deletable": true,
    "editable": true
   },
   "outputs": [],
   "source": [
    "HSC_filename = os.path.join(dwarfz.data_dir_default, \"HSC_COSMOS_median_forced.sqlite3\")\n",
    "HSC = dwarfz.datasets.HSC(HSC_filename)"
   ]
  },
  {
   "cell_type": "code",
   "execution_count": 4,
   "metadata": {
    "collapsed": false,
    "deletable": true,
    "editable": true
   },
   "outputs": [
    {
     "data": {
      "text/plain": [
       "(518331, 13)"
      ]
     },
     "execution_count": 4,
     "metadata": {},
     "output_type": "execute_result"
    }
   ],
   "source": [
    "COSMOS.df.shape"
   ]
  },
  {
   "cell_type": "code",
   "execution_count": 5,
   "metadata": {
    "collapsed": false,
    "deletable": true,
    "editable": true
   },
   "outputs": [
    {
     "data": {
      "text/plain": [
       "(928534, 20)"
      ]
     },
     "execution_count": 5,
     "metadata": {},
     "output_type": "execute_result"
    }
   ],
   "source": [
    "HSC.df.shape"
   ]
  },
  {
   "cell_type": "code",
   "execution_count": 6,
   "metadata": {
    "collapsed": true,
    "deletable": true,
    "editable": true
   },
   "outputs": [],
   "source": [
    "matches_filename = os.path.join(dwarfz.data_dir_default, \"matches.sqlite3\")\n",
    "matches_df = dwarfz.matching.Matches.load_from_filename(matches_filename)"
   ]
  },
  {
   "cell_type": "code",
   "execution_count": 7,
   "metadata": {
    "collapsed": true,
    "deletable": true,
    "editable": true
   },
   "outputs": [],
   "source": [
    "# build a DataFrame only of the successful matches\n",
    "combined = matches_df[matches_df.match].copy()\n",
    "\n",
    "# augment it with useful features and target columns\n",
    "combined[\"ra\"]       = COSMOS.df.loc[combined.index].ra\n",
    "combined[\"dec\"]      = COSMOS.df.loc[combined.index].dec\n",
    "combined[\"photo_z\"]  = COSMOS.df.loc[combined.index].photo_z\n",
    "combined[\"log_mass\"] = COSMOS.df.loc[combined.index].mass_med\n",
    "\n",
    "photometry_cols = [\n",
    "    \"gcmodel_flux\",\"gcmodel_flux_err\",\"gcmodel_flux_flags\",\n",
    "    \"rcmodel_flux\",\"rcmodel_flux_err\",\"rcmodel_flux_flags\",\n",
    "    \"icmodel_flux\",\"icmodel_flux_err\",\"icmodel_flux_flags\",\n",
    "    \"zcmodel_flux\",\"zcmodel_flux_err\",\"zcmodel_flux_flags\",\n",
    "    \"ycmodel_flux\",\"ycmodel_flux_err\",\"ycmodel_flux_flags\",\n",
    "]\n",
    "\n",
    "for col in photometry_cols:\n",
    "    combined[col] = HSC.df.loc[combined.catalog_2_ids][col].values"
   ]
  },
  {
   "cell_type": "markdown",
   "metadata": {
    "deletable": true,
    "editable": true
   },
   "source": [
    "## Turn fluxes into rough colors\n",
    "Yes, I know these aren't exactly the right colors since I'm not including zero-points, but that shouldn't affect the results.\n",
    "\n",
    "(When I get a chance, I'll re-download the dataset so that it includes magnitudes not just fluxes)"
   ]
  },
  {
   "cell_type": "code",
   "execution_count": 8,
   "metadata": {
    "collapsed": false,
    "deletable": true,
    "editable": true
   },
   "outputs": [
    {
     "name": "stderr",
     "output_type": "stream",
     "text": [
      "/Users/egentry/anaconda3/lib/python3.5/site-packages/ipykernel/__main__.py:1: RuntimeWarning: divide by zero encountered in log10\n",
      "  if __name__ == '__main__':\n",
      "/Users/egentry/anaconda3/lib/python3.5/site-packages/ipykernel/__main__.py:1: RuntimeWarning: invalid value encountered in log10\n",
      "  if __name__ == '__main__':\n",
      "/Users/egentry/anaconda3/lib/python3.5/site-packages/ipykernel/__main__.py:2: RuntimeWarning: divide by zero encountered in log10\n",
      "  from ipykernel import kernelapp as app\n",
      "/Users/egentry/anaconda3/lib/python3.5/site-packages/ipykernel/__main__.py:2: RuntimeWarning: invalid value encountered in log10\n",
      "  from ipykernel import kernelapp as app\n",
      "/Users/egentry/anaconda3/lib/python3.5/site-packages/ipykernel/__main__.py:3: RuntimeWarning: divide by zero encountered in log10\n",
      "  app.launch_new_instance()\n",
      "/Users/egentry/anaconda3/lib/python3.5/site-packages/ipykernel/__main__.py:3: RuntimeWarning: invalid value encountered in log10\n",
      "  app.launch_new_instance()\n",
      "/Users/egentry/anaconda3/lib/python3.5/site-packages/ipykernel/__main__.py:4: RuntimeWarning: divide by zero encountered in log10\n",
      "/Users/egentry/anaconda3/lib/python3.5/site-packages/ipykernel/__main__.py:4: RuntimeWarning: invalid value encountered in log10\n"
     ]
    }
   ],
   "source": [
    "combined[\"g_minus_r\"] = -.4*np.log10(combined[\"gcmodel_flux\"] / combined[\"rcmodel_flux\"])\n",
    "combined[\"r_minus_i\"] = -.4*np.log10(combined[\"rcmodel_flux\"] / combined[\"icmodel_flux\"])\n",
    "combined[\"i_minus_z\"] = -.4*np.log10(combined[\"icmodel_flux\"] / combined[\"zcmodel_flux\"])\n",
    "combined[\"z_minus_y\"] = -.4*np.log10(combined[\"zcmodel_flux\"] / combined[\"ycmodel_flux\"])"
   ]
  },
  {
   "cell_type": "markdown",
   "metadata": {
    "deletable": true,
    "editable": true
   },
   "source": [
    "For now, filter out bad photometry. Later I could consider passing this into the classifier, as an imputed/sentinel value"
   ]
  },
  {
   "cell_type": "code",
   "execution_count": 9,
   "metadata": {
    "collapsed": false,
    "deletable": true,
    "editable": true
   },
   "outputs": [],
   "source": [
    "mask =    np.isfinite(combined[\"g_minus_r\"]) & np.isfinite(combined[\"r_minus_i\"]) \\\n",
    "        & np.isfinite(combined[\"i_minus_z\"]) & np.isfinite(combined[\"z_minus_y\"]) \\\n",
    "        & np.isfinite(combined[\"icmodel_flux\"]) \\\n",
    "        & (~combined.gcmodel_flux_flags) & (~combined.rcmodel_flux_flags) \\\n",
    "        & (~combined.icmodel_flux_flags) & (~combined.zcmodel_flux_flags) \\\n",
    "        & (~combined.ycmodel_flux_flags)\n",
    "\n",
    "combined = combined[mask]\n",
    "\n",
    "combined[\"log_icmodel_flux\"] = np.log10(combined[\"icmodel_flux\"])"
   ]
  },
  {
   "cell_type": "markdown",
   "metadata": {
    "deletable": true,
    "editable": true
   },
   "source": [
    "# View distribution & cuts\n",
    "\n",
    "These cuts define the population of galaxies we're trying to infer (low-z and low mass)."
   ]
  },
  {
   "cell_type": "code",
   "execution_count": 10,
   "metadata": {
    "collapsed": false,
    "deletable": true,
    "editable": true
   },
   "outputs": [
    {
     "data": {
      "text/plain": [
       "<matplotlib.lines.Line2D at 0x140397518>"
      ]
     },
     "execution_count": 10,
     "metadata": {},
     "output_type": "execute_result"
    },
    {
     "data": {
      "image/png": "[encoded data removed]",
      "text/plain": [
       "<matplotlib.figure.Figure at 0x140397940>"
      ]
     },
     "metadata": {},
     "output_type": "display_data"
    }
   ],
   "source": [
    "sns.distplot(combined.photo_z)\n",
    "plt.axvline(.15, linestyle=\"dashed\", color=\"k\")"
   ]
  },
  {
   "cell_type": "markdown",
   "metadata": {
    "deletable": true,
    "editable": true
   },
   "source": [
    "Let's see the redshift distribution for $z<0.3$"
   ]
  },
  {
   "cell_type": "code",
   "execution_count": 11,
   "metadata": {
    "collapsed": false,
    "deletable": true,
    "editable": true
   },
   "outputs": [
    {
     "data": {
      "text/plain": [
       "<matplotlib.axes._subplots.AxesSubplot at 0x12bca2cc0>"
      ]
     },
     "execution_count": 11,
     "metadata": {},
     "output_type": "execute_result"
    },
    {
     "data": {
      "image/png": "[encoded data removed]",
      "text/plain": [
       "<matplotlib.figure.Figure at 0x108690e10>"
      ]
     },
     "metadata": {},
     "output_type": "display_data"
    }
   ],
   "source": [
    "sns.distplot(combined.photo_z[combined.photo_z < .3])"
   ]
  },
  {
   "cell_type": "code",
   "execution_count": 12,
   "metadata": {
    "collapsed": false,
    "deletable": true,
    "editable": true
   },
   "outputs": [
    {
     "data": {
      "text/plain": [
       "<matplotlib.lines.Line2D at 0x12af153c8>"
      ]
     },
     "execution_count": 12,
     "metadata": {},
     "output_type": "execute_result"
    },
    {
     "data": {
      "image/png": "[encoded data removed]",
      "text/plain": [
       "<matplotlib.figure.Figure at 0x12af30be0>"
      ]
     },
     "metadata": {},
     "output_type": "display_data"
    }
   ],
   "source": [
    "sns.distplot(combined.log_mass)\n",
    "\n",
    "plt.axvline(9, linestyle=\"dashed\", color=\"k\")"
   ]
  },
  {
   "cell_type": "markdown",
   "metadata": {
    "deletable": true,
    "editable": true
   },
   "source": [
    "# Create classification labels"
   ]
  },
  {
   "cell_type": "markdown",
   "metadata": {
    "deletable": true,
    "editable": true
   },
   "source": [
    "Class A: matched **and** (low redshift + low mass)\n",
    "\n",
    "Class B: matched **but not** (low redshift + low mass)"
   ]
  },
  {
   "cell_type": "code",
   "execution_count": 13,
   "metadata": {
    "collapsed": true,
    "deletable": true,
    "editable": true
   },
   "outputs": [],
   "source": [
    "low_z    = (combined.photo_z  < .15)\n",
    "low_mass = (combined.log_mass < 9)"
   ]
  },
  {
   "cell_type": "code",
   "execution_count": 14,
   "metadata": {
    "collapsed": true,
    "deletable": true,
    "editable": true
   },
   "outputs": [],
   "source": [
    "class_a =  (low_z & low_mass)\n",
    "class_b = ~(low_z & low_mass)"
   ]
  },
  {
   "cell_type": "code",
   "execution_count": 15,
   "metadata": {
    "collapsed": false,
    "deletable": true,
    "editable": true
   },
   "outputs": [
    {
     "data": {
      "text/plain": [
       "0.022124239582581931"
      ]
     },
     "execution_count": 15,
     "metadata": {},
     "output_type": "execute_result"
    }
   ],
   "source": [
    "class_a.mean()"
   ]
  },
  {
   "cell_type": "code",
   "execution_count": 16,
   "metadata": {
    "collapsed": false,
    "deletable": true,
    "editable": true
   },
   "outputs": [
    {
     "data": {
      "text/plain": [
       "0.97787576041741808"
      ]
     },
     "execution_count": 16,
     "metadata": {},
     "output_type": "execute_result"
    }
   ],
   "source": [
    "class_b.mean()"
   ]
  },
  {
   "cell_type": "code",
   "execution_count": 17,
   "metadata": {
    "collapsed": false,
    "deletable": true,
    "editable": true
   },
   "outputs": [
    {
     "data": {
      "text/plain": [
       "0.022124239582581931"
      ]
     },
     "execution_count": 17,
     "metadata": {},
     "output_type": "execute_result"
    }
   ],
   "source": [
    "class_a.sum() / (class_a.sum() + class_b.sum())"
   ]
  },
  {
   "cell_type": "code",
   "execution_count": 18,
   "metadata": {
    "collapsed": false,
    "deletable": true,
    "editable": true
   },
   "outputs": [
    {
     "data": {
      "text/plain": [
       "0.97787576041741808"
      ]
     },
     "execution_count": 18,
     "metadata": {},
     "output_type": "execute_result"
    }
   ],
   "source": [
    "class_b.sum() / (class_a.sum() + class_b.sum())"
   ]
  },
  {
   "cell_type": "code",
   "execution_count": 19,
   "metadata": {
    "collapsed": false,
    "deletable": true,
    "editable": true
   },
   "outputs": [
    {
     "data": {
      "text/html": [
       "<div>\n",
       "<table border=\"1\" class=\"dataframe\">\n",
       "  <thead>\n",
       "    <tr style=\"text-align: right;\">\n",
       "      <th></th>\n",
       "      <th>catalog_2_ids</th>\n",
       "      <th>sep</th>\n",
       "      <th>match</th>\n",
       "      <th>error</th>\n",
       "      <th>ra</th>\n",
       "      <th>dec</th>\n",
       "      <th>photo_z</th>\n",
       "      <th>log_mass</th>\n",
       "      <th>gcmodel_flux</th>\n",
       "      <th>gcmodel_flux_err</th>\n",
       "      <th>...</th>\n",
       "      <th>zcmodel_flux_flags</th>\n",
       "      <th>ycmodel_flux</th>\n",
       "      <th>ycmodel_flux_err</th>\n",
       "      <th>ycmodel_flux_flags</th>\n",
       "      <th>g_minus_r</th>\n",
       "      <th>r_minus_i</th>\n",
       "      <th>i_minus_z</th>\n",
       "      <th>z_minus_y</th>\n",
       "      <th>log_icmodel_flux</th>\n",
       "      <th>low_z_low_mass</th>\n",
       "    </tr>\n",
       "    <tr>\n",
       "      <th>catalog_1_ids</th>\n",
       "      <th></th>\n",
       "      <th></th>\n",
       "      <th></th>\n",
       "      <th></th>\n",
       "      <th></th>\n",
       "      <th></th>\n",
       "      <th></th>\n",
       "      <th></th>\n",
       "      <th></th>\n",
       "      <th></th>\n",
       "      <th></th>\n",
       "      <th></th>\n",
       "      <th></th>\n",
       "      <th></th>\n",
       "      <th></th>\n",
       "      <th></th>\n",
       "      <th></th>\n",
       "      <th></th>\n",
       "      <th></th>\n",
       "      <th></th>\n",
       "      <th></th>\n",
       "    </tr>\n",
       "  </thead>\n",
       "  <tbody>\n",
       "    <tr>\n",
       "      <th>219656</th>\n",
       "      <td>43158447025298860</td>\n",
       "      <td>0.471546</td>\n",
       "      <td>True</td>\n",
       "      <td>False</td>\n",
       "      <td>150.388349</td>\n",
       "      <td>1.614538</td>\n",
       "      <td>2.3343</td>\n",
       "      <td>8.99275</td>\n",
       "      <td>5.800470e-31</td>\n",
       "      <td>2.102453e-31</td>\n",
       "      <td>...</td>\n",
       "      <td>False</td>\n",
       "      <td>4.328439e-31</td>\n",
       "      <td>1.392682e-30</td>\n",
       "      <td>False</td>\n",
       "      <td>0.144670</td>\n",
       "      <td>0.098257</td>\n",
       "      <td>-0.030754</td>\n",
       "      <td>-0.263026</td>\n",
       "      <td>-29.629218</td>\n",
       "      <td>False</td>\n",
       "    </tr>\n",
       "    <tr>\n",
       "      <th>219741</th>\n",
       "      <td>43158447025298862</td>\n",
       "      <td>0.202378</td>\n",
       "      <td>True</td>\n",
       "      <td>False</td>\n",
       "      <td>150.402935</td>\n",
       "      <td>1.614631</td>\n",
       "      <td>2.1991</td>\n",
       "      <td>9.71373</td>\n",
       "      <td>8.775548e-31</td>\n",
       "      <td>2.110055e-31</td>\n",
       "      <td>...</td>\n",
       "      <td>False</td>\n",
       "      <td>2.347631e-30</td>\n",
       "      <td>1.432457e-30</td>\n",
       "      <td>False</td>\n",
       "      <td>0.099205</td>\n",
       "      <td>0.012165</td>\n",
       "      <td>-0.071279</td>\n",
       "      <td>0.130851</td>\n",
       "      <td>-29.778300</td>\n",
       "      <td>False</td>\n",
       "    </tr>\n",
       "    <tr>\n",
       "      <th>219743</th>\n",
       "      <td>43158584464246387</td>\n",
       "      <td>0.207967</td>\n",
       "      <td>True</td>\n",
       "      <td>False</td>\n",
       "      <td>150.295083</td>\n",
       "      <td>1.614662</td>\n",
       "      <td>2.4407</td>\n",
       "      <td>9.77811</td>\n",
       "      <td>1.312252e-30</td>\n",
       "      <td>3.044583e-31</td>\n",
       "      <td>...</td>\n",
       "      <td>False</td>\n",
       "      <td>3.960493e-30</td>\n",
       "      <td>2.091224e-30</td>\n",
       "      <td>False</td>\n",
       "      <td>0.119917</td>\n",
       "      <td>0.073225</td>\n",
       "      <td>0.032795</td>\n",
       "      <td>-0.034045</td>\n",
       "      <td>-29.399128</td>\n",
       "      <td>False</td>\n",
       "    </tr>\n",
       "    <tr>\n",
       "      <th>219744</th>\n",
       "      <td>43158584464253383</td>\n",
       "      <td>0.295316</td>\n",
       "      <td>True</td>\n",
       "      <td>False</td>\n",
       "      <td>150.239919</td>\n",
       "      <td>1.614675</td>\n",
       "      <td>0.2079</td>\n",
       "      <td>7.04224</td>\n",
       "      <td>8.597155e-31</td>\n",
       "      <td>1.999684e-31</td>\n",
       "      <td>...</td>\n",
       "      <td>False</td>\n",
       "      <td>6.612980e-31</td>\n",
       "      <td>1.594763e-30</td>\n",
       "      <td>False</td>\n",
       "      <td>0.087705</td>\n",
       "      <td>-0.006288</td>\n",
       "      <td>0.078045</td>\n",
       "      <td>-0.205045</td>\n",
       "      <td>-29.862103</td>\n",
       "      <td>False</td>\n",
       "    </tr>\n",
       "    <tr>\n",
       "      <th>219769</th>\n",
       "      <td>43158584464277538</td>\n",
       "      <td>0.410593</td>\n",
       "      <td>True</td>\n",
       "      <td>False</td>\n",
       "      <td>150.180826</td>\n",
       "      <td>1.614706</td>\n",
       "      <td>1.2060</td>\n",
       "      <td>7.92008</td>\n",
       "      <td>1.152067e-30</td>\n",
       "      <td>1.891072e-31</td>\n",
       "      <td>...</td>\n",
       "      <td>False</td>\n",
       "      <td>1.530384e-30</td>\n",
       "      <td>1.368668e-30</td>\n",
       "      <td>False</td>\n",
       "      <td>-0.166723</td>\n",
       "      <td>-0.537628</td>\n",
       "      <td>0.716014</td>\n",
       "      <td>0.037666</td>\n",
       "      <td>-31.699399</td>\n",
       "      <td>False</td>\n",
       "    </tr>\n",
       "  </tbody>\n",
       "</table>\n",
       "<p>5 rows × 29 columns</p>\n",
       "</div>"
      ],
      "text/plain": [
       "                   catalog_2_ids       sep match  error          ra       dec  \\\n",
       "catalog_1_ids                                                                   \n",
       "219656         43158447025298860  0.471546  True  False  150.388349  1.614538   \n",
       "219741         43158447025298862  0.202378  True  False  150.402935  1.614631   \n",
       "219743         43158584464246387  0.207967  True  False  150.295083  1.614662   \n",
       "219744         43158584464253383  0.295316  True  False  150.239919  1.614675   \n",
       "219769         43158584464277538  0.410593  True  False  150.180826  1.614706   \n",
       "\n",
       "               photo_z  log_mass  gcmodel_flux  gcmodel_flux_err  \\\n",
       "catalog_1_ids                                                      \n",
       "219656          2.3343   8.99275  5.800470e-31      2.102453e-31   \n",
       "219741          2.1991   9.71373  8.775548e-31      2.110055e-31   \n",
       "219743          2.4407   9.77811  1.312252e-30      3.044583e-31   \n",
       "219744          0.2079   7.04224  8.597155e-31      1.999684e-31   \n",
       "219769          1.2060   7.92008  1.152067e-30      1.891072e-31   \n",
       "\n",
       "                   ...       zcmodel_flux_flags  ycmodel_flux  \\\n",
       "catalog_1_ids      ...                                          \n",
       "219656             ...                    False  4.328439e-31   \n",
       "219741             ...                    False  2.347631e-30   \n",
       "219743             ...                    False  3.960493e-30   \n",
       "219744             ...                    False  6.612980e-31   \n",
       "219769             ...                    False  1.530384e-30   \n",
       "\n",
       "               ycmodel_flux_err ycmodel_flux_flags  g_minus_r  r_minus_i  \\\n",
       "catalog_1_ids                                                              \n",
       "219656             1.392682e-30              False   0.144670   0.098257   \n",
       "219741             1.432457e-30              False   0.099205   0.012165   \n",
       "219743             2.091224e-30              False   0.119917   0.073225   \n",
       "219744             1.594763e-30              False   0.087705  -0.006288   \n",
       "219769             1.368668e-30              False  -0.166723  -0.537628   \n",
       "\n",
       "              i_minus_z  z_minus_y  log_icmodel_flux low_z_low_mass  \n",
       "catalog_1_ids                                                        \n",
       "219656        -0.030754  -0.263026        -29.629218          False  \n",
       "219741        -0.071279   0.130851        -29.778300          False  \n",
       "219743         0.032795  -0.034045        -29.399128          False  \n",
       "219744         0.078045  -0.205045        -29.862103          False  \n",
       "219769         0.716014   0.037666        -31.699399          False  \n",
       "\n",
       "[5 rows x 29 columns]"
      ]
     },
     "execution_count": 19,
     "metadata": {},
     "output_type": "execute_result"
    }
   ],
   "source": [
    "combined[\"low_z_low_mass\"] = class_a\n",
    "combined.head()"
   ]
  },
  {
   "cell_type": "markdown",
   "metadata": {
    "deletable": true,
    "editable": true
   },
   "source": [
    "# Build Classifier"
   ]
  },
  {
   "cell_type": "code",
   "execution_count": 20,
   "metadata": {
    "collapsed": false,
    "deletable": true,
    "editable": true
   },
   "outputs": [],
   "source": [
    "features = combined.loc[:,[\"g_minus_r\", \"r_minus_i\", \"i_minus_z\", \"z_minus_y\",\n",
    "                              \"log_icmodel_flux\"]]\n",
    "\n",
    "target = combined.loc[:,[\"low_z_low_mass\"]]"
   ]
  },
  {
   "cell_type": "code",
   "execution_count": 21,
   "metadata": {
    "collapsed": false,
    "deletable": true,
    "editable": true
   },
   "outputs": [
    {
     "data": {
      "text/plain": [
       "low_z_low_mass    0.022124\n",
       "dtype: float64"
      ]
     },
     "execution_count": 21,
     "metadata": {},
     "output_type": "execute_result"
    }
   ],
   "source": [
    "target.mean()"
   ]
  },
  {
   "cell_type": "markdown",
   "metadata": {
    "deletable": true,
    "editable": true
   },
   "source": [
    "## Partition training and testing sets"
   ]
  },
  {
   "cell_type": "code",
   "execution_count": 22,
   "metadata": {
    "collapsed": false,
    "deletable": true,
    "editable": true
   },
   "outputs": [],
   "source": [
    "testing_fraction = .1\n",
    "test_set_indices = np.random.choice(target.index.values, \n",
    "                                    replace=False,\n",
    "                                    size=int(testing_fraction*target.size)\n",
    "                                   )\n",
    "\n",
    "training_set_indices = np.array(list(set(target.index.values) - set(test_set_indices)))\n",
    "\n",
    "features_train = features.loc[training_set_indices]\n",
    "features_test  = features.loc[test_set_indices]\n",
    "\n",
    "target_train   = target.loc[training_set_indices]\n",
    "target_test    = target.loc[test_set_indices]"
   ]
  },
  {
   "cell_type": "markdown",
   "metadata": {
    "deletable": true,
    "editable": true
   },
   "source": [
    "## Random Forest: train & test"
   ]
  },
  {
   "cell_type": "code",
   "execution_count": 23,
   "metadata": {
    "collapsed": false,
    "deletable": true,
    "editable": true
   },
   "outputs": [],
   "source": [
    "from sklearn.ensemble import RandomForestClassifier"
   ]
  },
  {
   "cell_type": "code",
   "execution_count": 24,
   "metadata": {
    "collapsed": false,
    "deletable": true,
    "editable": true
   },
   "outputs": [],
   "source": [
    "classifier = RandomForestClassifier()\n",
    "classifier = classifier.fit(features_train, target_train.values.flatten())"
   ]
  },
  {
   "cell_type": "code",
   "execution_count": 25,
   "metadata": {
    "collapsed": true,
    "deletable": true,
    "editable": true
   },
   "outputs": [],
   "source": [
    "target_predicted_simple = classifier.predict(features_test)"
   ]
  },
  {
   "cell_type": "code",
   "execution_count": 26,
   "metadata": {
    "collapsed": true,
    "deletable": true,
    "editable": true
   },
   "outputs": [],
   "source": [
    "target_prob = classifier.predict_proba(features_test)[:,1]\n",
    "target_predicted = (target_prob > .01)"
   ]
  },
  {
   "cell_type": "code",
   "execution_count": 27,
   "metadata": {
    "collapsed": false,
    "deletable": true,
    "editable": true
   },
   "outputs": [
    {
     "data": {
      "text/plain": [
       "0.0"
      ]
     },
     "execution_count": 27,
     "metadata": {},
     "output_type": "execute_result"
    }
   ],
   "source": [
    "target_prob.min()"
   ]
  },
  {
   "cell_type": "code",
   "execution_count": 28,
   "metadata": {
    "collapsed": false,
    "deletable": true,
    "editable": true
   },
   "outputs": [
    {
     "data": {
      "text/plain": [
       "1.0"
      ]
     },
     "execution_count": 28,
     "metadata": {},
     "output_type": "execute_result"
    }
   ],
   "source": [
    "target_prob.max()"
   ]
  },
  {
   "cell_type": "code",
   "execution_count": 29,
   "metadata": {
    "collapsed": false,
    "deletable": true,
    "editable": true
   },
   "outputs": [
    {
     "data": {
      "text/plain": [
       "0.023848682751030144"
      ]
     },
     "execution_count": 29,
     "metadata": {},
     "output_type": "execute_result"
    }
   ],
   "source": [
    "target_prob.mean()"
   ]
  },
  {
   "cell_type": "code",
   "execution_count": 30,
   "metadata": {
    "collapsed": false,
    "deletable": true,
    "editable": true
   },
   "outputs": [
    {
     "data": {
      "text/plain": [
       "0.0031859577409756243"
      ]
     },
     "execution_count": 30,
     "metadata": {},
     "output_type": "execute_result"
    }
   ],
   "source": [
    "# When you use a symmetric loss function\n",
    "# (i.e. weight false positive and false negatives equally)\n",
    "target_predicted_simple.mean()"
   ]
  },
  {
   "cell_type": "code",
   "execution_count": 31,
   "metadata": {
    "collapsed": false,
    "deletable": true,
    "editable": true
   },
   "outputs": [
    {
     "data": {
      "text/plain": [
       "0.16395659883983049"
      ]
     },
     "execution_count": 31,
     "metadata": {},
     "output_type": "execute_result"
    }
   ],
   "source": [
    "# When you use an asymmetric loss function\n",
    "# (i.e. value completeness more than purity)\n",
    "target_predicted.mean()"
   ]
  },
  {
   "cell_type": "code",
   "execution_count": 32,
   "metadata": {
    "collapsed": false,
    "deletable": true,
    "editable": true
   },
   "outputs": [
    {
     "data": {
      "text/plain": [
       "0.021009287367376995"
      ]
     },
     "execution_count": 32,
     "metadata": {},
     "output_type": "execute_result"
    }
   ],
   "source": [
    "# Actual values\n",
    "target_test.values.flatten().mean()"
   ]
  },
  {
   "cell_type": "markdown",
   "metadata": {
    "deletable": true,
    "editable": true
   },
   "source": [
    "## Random Forest:  Create Confusion Matrix"
   ]
  },
  {
   "cell_type": "code",
   "execution_count": 33,
   "metadata": {
    "collapsed": false,
    "deletable": true,
    "editable": true
   },
   "outputs": [
    {
     "data": {
      "text/plain": [
       "array([False, False, False, ..., False, False,  True], dtype=bool)"
      ]
     },
     "execution_count": 33,
     "metadata": {},
     "output_type": "execute_result"
    }
   ],
   "source": [
    "target_predicted"
   ]
  },
  {
   "cell_type": "code",
   "execution_count": 34,
   "metadata": {
    "collapsed": false,
    "deletable": true,
    "editable": true
   },
   "outputs": [],
   "source": [
    "true_a =  target_test.values.flatten()\n",
    "true_b = ~target_test.values.flatten()\n",
    "\n",
    "predicted_a =  target_predicted\n",
    "predicted_b = ~target_predicted"
   ]
  },
  {
   "cell_type": "code",
   "execution_count": 35,
   "metadata": {
    "collapsed": false,
    "deletable": true,
    "editable": true
   },
   "outputs": [
    {
     "data": {
      "text/plain": [
       "33271"
      ]
     },
     "execution_count": 35,
     "metadata": {},
     "output_type": "execute_result"
    }
   ],
   "source": [
    "true_a.size"
   ]
  },
  {
   "cell_type": "code",
   "execution_count": 36,
   "metadata": {
    "collapsed": false,
    "deletable": true,
    "editable": true
   },
   "outputs": [
    {
     "data": {
      "text/plain": [
       "699"
      ]
     },
     "execution_count": 36,
     "metadata": {},
     "output_type": "execute_result"
    }
   ],
   "source": [
    "true_a.sum()"
   ]
  },
  {
   "cell_type": "code",
   "execution_count": 37,
   "metadata": {
    "collapsed": false,
    "deletable": true,
    "editable": true
   },
   "outputs": [
    {
     "data": {
      "text/plain": [
       "5455"
      ]
     },
     "execution_count": 37,
     "metadata": {},
     "output_type": "execute_result"
    }
   ],
   "source": [
    "predicted_a.sum()"
   ]
  },
  {
   "cell_type": "code",
   "execution_count": 38,
   "metadata": {
    "collapsed": false,
    "deletable": true,
    "editable": true
   },
   "outputs": [
    {
     "data": {
      "text/plain": [
       "302"
      ]
     },
     "execution_count": 38,
     "metadata": {},
     "output_type": "execute_result"
    }
   ],
   "source": [
    "(true_a & predicted_a).sum()"
   ]
  },
  {
   "cell_type": "code",
   "execution_count": 39,
   "metadata": {
    "collapsed": false,
    "deletable": true,
    "editable": true
   },
   "outputs": [
    {
     "data": {
      "text/plain": [
       "0.43204577968526464"
      ]
     },
     "execution_count": 39,
     "metadata": {},
     "output_type": "execute_result"
    }
   ],
   "source": [
    "completeness = (true_a & predicted_a).sum() / (true_a).sum() \n",
    "completeness"
   ]
  },
  {
   "cell_type": "code",
   "execution_count": 40,
   "metadata": {
    "collapsed": false,
    "deletable": true,
    "editable": true
   },
   "outputs": [
    {
     "data": {
      "text/plain": [
       "0.055362053162236483"
      ]
     },
     "execution_count": 40,
     "metadata": {},
     "output_type": "execute_result"
    }
   ],
   "source": [
    "purity = (true_a & predicted_a).sum() / (predicted_a).sum() \n",
    "purity"
   ]
  },
  {
   "cell_type": "markdown",
   "metadata": {
    "deletable": true,
    "editable": true
   },
   "source": [
    "## Random Forest: Compare to overall fraction in training set\n",
    "\n",
    "How does this RF method compare to subsampling randomly"
   ]
  },
  {
   "cell_type": "code",
   "execution_count": 41,
   "metadata": {
    "collapsed": false,
    "deletable": true,
    "editable": true
   },
   "outputs": [
    {
     "data": {
      "text/plain": [
       "33271"
      ]
     },
     "execution_count": 41,
     "metadata": {},
     "output_type": "execute_result"
    }
   ],
   "source": [
    "true_a.size"
   ]
  },
  {
   "cell_type": "code",
   "execution_count": 42,
   "metadata": {
    "collapsed": false,
    "deletable": true,
    "editable": true
   },
   "outputs": [
    {
     "data": {
      "text/plain": [
       "33271"
      ]
     },
     "execution_count": 42,
     "metadata": {},
     "output_type": "execute_result"
    }
   ],
   "source": [
    "predicted_a.size"
   ]
  },
  {
   "cell_type": "code",
   "execution_count": 43,
   "metadata": {
    "collapsed": false,
    "deletable": true,
    "editable": true
   },
   "outputs": [
    {
     "name": "stdout",
     "output_type": "stream",
     "text": [
      "Completeness with random sampling:  0.16395659884\n",
      "Completeness with smart  sampling:  0.432045779685\n"
     ]
    }
   ],
   "source": [
    "print(\"Completeness with random sampling: \", predicted_a.sum() / predicted_a.size)\n",
    "print(\"Completeness with smart  sampling: \", completeness)"
   ]
  },
  {
   "cell_type": "code",
   "execution_count": 44,
   "metadata": {
    "collapsed": false,
    "deletable": true,
    "editable": true
   },
   "outputs": [
    {
     "name": "stdout",
     "output_type": "stream",
     "text": [
      "Purity with random sampling:  0.0210092873674\n",
      "Purity with smart sampling :  0.0553620531622\n"
     ]
    }
   ],
   "source": [
    "print(\"Purity with random sampling: \", true_a.sum() / true_a.size)\n",
    "print(\"Purity with smart sampling : \", purity)"
   ]
  },
  {
   "cell_type": "code",
   "execution_count": 45,
   "metadata": {
    "collapsed": false,
    "deletable": true,
    "editable": true
   },
   "outputs": [
    {
     "name": "stdout",
     "output_type": "stream",
     "text": [
      "Sample size reduction with random sampling:  6.09917506874\n",
      "Sample size reduction with smart sampling :  6.09917506874\n"
     ]
    }
   ],
   "source": [
    "# by definition...\n",
    "print(\"Sample size reduction with random sampling: \", (predicted_a.sum() / predicted_a.size)**-1)\n",
    "print(\"Sample size reduction with smart sampling : \", (predicted_a.sum() / predicted_a.size)**-1)"
   ]
  },
  {
   "cell_type": "markdown",
   "metadata": {
    "deletable": true,
    "editable": true
   },
   "source": [
    "Okay, so our cut has improved purity by a factor of 2-3, relative to downsampling the catalog at random.\n",
    "\n",
    "Unfortunately, our completeness isn't great: we're down to ~40%"
   ]
  },
  {
   "cell_type": "markdown",
   "metadata": {
    "deletable": true,
    "editable": true
   },
   "source": [
    "# To do:\n",
    "- Find a better algorithm?\n",
    " - We really aren't doing the type of classification that RandomForest is trying to optimize. It cares more about purity, but I'm more worried about completeness"
   ]
  },
  {
   "cell_type": "code",
   "execution_count": null,
   "metadata": {
    "collapsed": true,
    "deletable": true,
    "editable": true
   },
   "outputs": [],
   "source": []
  },
  {
   "cell_type": "markdown",
   "metadata": {
    "deletable": true,
    "editable": true
   },
   "source": [
    "## Logistic Regression: train & test"
   ]
  },
  {
   "cell_type": "code",
   "execution_count": 46,
   "metadata": {
    "collapsed": false,
    "deletable": true,
    "editable": true
   },
   "outputs": [],
   "source": [
    "from sklearn.linear_model import LogisticRegression"
   ]
  },
  {
   "cell_type": "code",
   "execution_count": 47,
   "metadata": {
    "collapsed": false,
    "deletable": true,
    "editable": true
   },
   "outputs": [],
   "source": [
    "classifier = LogisticRegression(class_weight=\"balanced\")\n",
    "classifier = classifier.fit(features_train, np.array(target_train.values.flatten(), dtype=int))"
   ]
  },
  {
   "cell_type": "code",
   "execution_count": 48,
   "metadata": {
    "collapsed": false,
    "deletable": true,
    "editable": true
   },
   "outputs": [],
   "source": [
    "target_predicted_simple = classifier.predict(features_test)"
   ]
  },
  {
   "cell_type": "code",
   "execution_count": 49,
   "metadata": {
    "collapsed": false,
    "deletable": true,
    "editable": true
   },
   "outputs": [
    {
     "data": {
      "text/plain": [
       "array([ 0. ,  0. ,  0. , ...,  0. ,  0. ,  0.1])"
      ]
     },
     "execution_count": 49,
     "metadata": {},
     "output_type": "execute_result"
    }
   ],
   "source": [
    "target_prob"
   ]
  },
  {
   "cell_type": "code",
   "execution_count": 50,
   "metadata": {
    "collapsed": true,
    "deletable": true,
    "editable": true
   },
   "outputs": [],
   "source": [
    "target_prob = classifier.predict_proba(features_test)[:,1]\n",
    "target_predicted = (target_prob > .577)"
   ]
  },
  {
   "cell_type": "code",
   "execution_count": 51,
   "metadata": {
    "collapsed": false,
    "deletable": true,
    "editable": true
   },
   "outputs": [
    {
     "data": {
      "text/plain": [
       "3.3925373395521233e-05"
      ]
     },
     "execution_count": 51,
     "metadata": {},
     "output_type": "execute_result"
    }
   ],
   "source": [
    "target_prob.min()"
   ]
  },
  {
   "cell_type": "code",
   "execution_count": 52,
   "metadata": {
    "collapsed": false,
    "deletable": true,
    "editable": true
   },
   "outputs": [
    {
     "data": {
      "text/plain": [
       "0.99361885155660623"
      ]
     },
     "execution_count": 52,
     "metadata": {},
     "output_type": "execute_result"
    }
   ],
   "source": [
    "target_prob.max()"
   ]
  },
  {
   "cell_type": "code",
   "execution_count": 53,
   "metadata": {
    "collapsed": false,
    "deletable": true,
    "editable": true
   },
   "outputs": [
    {
     "data": {
      "text/plain": [
       "0.38706380932343482"
      ]
     },
     "execution_count": 53,
     "metadata": {},
     "output_type": "execute_result"
    }
   ],
   "source": [
    "# When you use a symmetric loss function\n",
    "# (i.e. weight false positive and false negatives equally)\n",
    "target_predicted_simple.mean()"
   ]
  },
  {
   "cell_type": "code",
   "execution_count": 54,
   "metadata": {
    "collapsed": false,
    "deletable": true,
    "editable": true
   },
   "outputs": [
    {
     "data": {
      "text/plain": [
       "0.15965856151002375"
      ]
     },
     "execution_count": 54,
     "metadata": {},
     "output_type": "execute_result"
    }
   ],
   "source": [
    "# When you use an asymmetric loss function\n",
    "# (i.e. value completeness more than purity)\n",
    "target_predicted.mean()"
   ]
  },
  {
   "cell_type": "code",
   "execution_count": 55,
   "metadata": {
    "collapsed": false,
    "deletable": true,
    "editable": true
   },
   "outputs": [
    {
     "data": {
      "text/plain": [
       "0.021009287367376995"
      ]
     },
     "execution_count": 55,
     "metadata": {},
     "output_type": "execute_result"
    }
   ],
   "source": [
    "# Actual values\n",
    "target_test.values.flatten().mean()"
   ]
  },
  {
   "cell_type": "markdown",
   "metadata": {
    "deletable": true,
    "editable": true
   },
   "source": [
    "## Logistic Regression: Create Confusion Matrix"
   ]
  },
  {
   "cell_type": "code",
   "execution_count": 56,
   "metadata": {
    "collapsed": false,
    "deletable": true,
    "editable": true
   },
   "outputs": [
    {
     "data": {
      "text/plain": [
       "array([False, False, False, ..., False, False, False], dtype=bool)"
      ]
     },
     "execution_count": 56,
     "metadata": {},
     "output_type": "execute_result"
    }
   ],
   "source": [
    "target_predicted"
   ]
  },
  {
   "cell_type": "code",
   "execution_count": 57,
   "metadata": {
    "collapsed": false,
    "deletable": true,
    "editable": true
   },
   "outputs": [],
   "source": [
    "true_a =  target_test.values.flatten()\n",
    "true_b = ~target_test.values.flatten()\n",
    "\n",
    "predicted_a =  target_predicted\n",
    "predicted_b = ~target_predicted"
   ]
  },
  {
   "cell_type": "code",
   "execution_count": 58,
   "metadata": {
    "collapsed": false,
    "deletable": true,
    "editable": true
   },
   "outputs": [
    {
     "data": {
      "text/plain": [
       "33271"
      ]
     },
     "execution_count": 58,
     "metadata": {},
     "output_type": "execute_result"
    }
   ],
   "source": [
    "true_a.size"
   ]
  },
  {
   "cell_type": "code",
   "execution_count": 59,
   "metadata": {
    "collapsed": false,
    "deletable": true,
    "editable": true
   },
   "outputs": [
    {
     "data": {
      "text/plain": [
       "699"
      ]
     },
     "execution_count": 59,
     "metadata": {},
     "output_type": "execute_result"
    }
   ],
   "source": [
    "true_a.sum()"
   ]
  },
  {
   "cell_type": "code",
   "execution_count": 60,
   "metadata": {
    "collapsed": false,
    "deletable": true,
    "editable": true
   },
   "outputs": [
    {
     "data": {
      "text/plain": [
       "5312"
      ]
     },
     "execution_count": 60,
     "metadata": {},
     "output_type": "execute_result"
    }
   ],
   "source": [
    "predicted_a.sum()"
   ]
  },
  {
   "cell_type": "code",
   "execution_count": 61,
   "metadata": {
    "collapsed": false,
    "deletable": true,
    "editable": true
   },
   "outputs": [
    {
     "data": {
      "text/plain": [
       "240"
      ]
     },
     "execution_count": 61,
     "metadata": {},
     "output_type": "execute_result"
    }
   ],
   "source": [
    "(true_a & predicted_a).sum()"
   ]
  },
  {
   "cell_type": "code",
   "execution_count": 62,
   "metadata": {
    "collapsed": false,
    "deletable": true,
    "editable": true
   },
   "outputs": [
    {
     "data": {
      "text/plain": [
       "0.34334763948497854"
      ]
     },
     "execution_count": 62,
     "metadata": {},
     "output_type": "execute_result"
    }
   ],
   "source": [
    "completeness = (true_a & predicted_a).sum() / (true_a).sum() \n",
    "completeness"
   ]
  },
  {
   "cell_type": "code",
   "execution_count": 63,
   "metadata": {
    "collapsed": false,
    "deletable": true,
    "editable": true
   },
   "outputs": [
    {
     "data": {
      "text/plain": [
       "0.045180722891566265"
      ]
     },
     "execution_count": 63,
     "metadata": {},
     "output_type": "execute_result"
    }
   ],
   "source": [
    "purity = (true_a & predicted_a).sum() / (predicted_a).sum() \n",
    "purity"
   ]
  },
  {
   "cell_type": "markdown",
   "metadata": {
    "deletable": true,
    "editable": true
   },
   "source": [
    "## Logistic Regression: Compare to overall fraction in training set\n",
    "\n",
    "How does this RF method compare to subsampling randomly"
   ]
  },
  {
   "cell_type": "code",
   "execution_count": 64,
   "metadata": {
    "collapsed": false,
    "deletable": true,
    "editable": true
   },
   "outputs": [
    {
     "data": {
      "text/plain": [
       "33271"
      ]
     },
     "execution_count": 64,
     "metadata": {},
     "output_type": "execute_result"
    }
   ],
   "source": [
    "true_a.size"
   ]
  },
  {
   "cell_type": "code",
   "execution_count": 65,
   "metadata": {
    "collapsed": false,
    "deletable": true,
    "editable": true
   },
   "outputs": [
    {
     "data": {
      "text/plain": [
       "33271"
      ]
     },
     "execution_count": 65,
     "metadata": {},
     "output_type": "execute_result"
    }
   ],
   "source": [
    "predicted_a.size"
   ]
  },
  {
   "cell_type": "code",
   "execution_count": 66,
   "metadata": {
    "collapsed": false,
    "deletable": true,
    "editable": true
   },
   "outputs": [
    {
     "name": "stdout",
     "output_type": "stream",
     "text": [
      "Completeness with random sampling:  0.15965856151\n",
      "Completeness with smart  sampling:  0.343347639485\n"
     ]
    }
   ],
   "source": [
    "print(\"Completeness with random sampling: \", predicted_a.sum() / predicted_a.size)\n",
    "print(\"Completeness with smart  sampling: \", completeness)"
   ]
  },
  {
   "cell_type": "code",
   "execution_count": 67,
   "metadata": {
    "collapsed": false,
    "deletable": true,
    "editable": true
   },
   "outputs": [
    {
     "name": "stdout",
     "output_type": "stream",
     "text": [
      "Purity with random sampling:  0.0210092873674\n",
      "Purity with smart sampling :  0.0451807228916\n"
     ]
    }
   ],
   "source": [
    "print(\"Purity with random sampling: \", true_a.sum() / true_a.size)\n",
    "print(\"Purity with smart sampling : \", purity)"
   ]
  },
  {
   "cell_type": "code",
   "execution_count": 68,
   "metadata": {
    "collapsed": false,
    "deletable": true,
    "editable": true
   },
   "outputs": [
    {
     "name": "stdout",
     "output_type": "stream",
     "text": [
      "Sample size reduction with random sampling:  6.26336596386\n",
      "Sample size reduction with smart sampling :  6.26336596386\n"
     ]
    }
   ],
   "source": [
    "# by definition...\n",
    "print(\"Sample size reduction with random sampling: \", (predicted_a.sum() / predicted_a.size)**-1)\n",
    "print(\"Sample size reduction with smart sampling : \", (predicted_a.sum() / predicted_a.size)**-1)"
   ]
  },
  {
   "cell_type": "code",
   "execution_count": null,
   "metadata": {
    "collapsed": true,
    "deletable": true,
    "editable": true
   },
   "outputs": [],
   "source": []
  }
 ],
 "metadata": {
  "anaconda-cloud": {},
  "kernelspec": {
   "display_name": "Python [default]",
   "language": "python",
   "name": "python3"
  },
  "language_info": {
   "codemirror_mode": {
    "name": "ipython",
    "version": 3
   },
   "file_extension": ".py",
   "mimetype": "text/x-python",
   "name": "python",
   "nbconvert_exporter": "python",
   "pygments_lexer": "ipython3",
   "version": "3.5.1"
  }
 },
 "nbformat": 4,
 "nbformat_minor": 2
}

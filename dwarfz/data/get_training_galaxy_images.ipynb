{
 "cells": [
  {
   "cell_type": "markdown",
   "metadata": {},
   "source": [
    "# What do I want?\n",
    "\n",
    "Previously in `../catalog_only_classifier/classifier_comparison.ipynb` I got a Random Forest-predicted probability of each galaxy being a low-z dwarf. Now I want to select a subset of the galaxies most likely to be dwarfs, and pull their images from the HSC servers."
   ]
  },
  {
   "cell_type": "markdown",
   "metadata": {},
   "source": [
    "# Code\n",
    "First let's load some general information about each galaxy, in case we want to see how our \"dwarf galaxy scores\" correlate with various properties"
   ]
  },
  {
   "cell_type": "code",
   "execution_count": 1,
   "metadata": {},
   "outputs": [],
   "source": [
    "# give access to importing dwarfz\n",
    "import os, sys\n",
    "dwarfz_package_dir = os.getcwd().split(\"dwarfz\")[0]\n",
    "if dwarfz_package_dir not in sys.path:\n",
    "    sys.path.insert(0, dwarfz_package_dir)\n",
    "\n",
    "import dwarfz\n",
    "    \n",
    "# back to regular import statements\n",
    "\n",
    "%matplotlib inline\n",
    "from matplotlib import pyplot as plt\n",
    "\n",
    "import seaborn as sns\n",
    "sns.set(context=\"poster\", style=\"ticks\", font_scale=1.4)\n",
    "\n",
    "import numpy as np\n",
    "import pandas as pd\n",
    "import glob\n",
    "import shutil\n",
    "\n",
    "from scipy.special import expit"
   ]
  },
  {
   "cell_type": "code",
   "execution_count": 2,
   "metadata": {},
   "outputs": [],
   "source": [
    "COSMOS_filename = os.path.join(dwarfz.data_dir_default, \"COSMOS_reference.sqlite\")\n",
    "COSMOS = dwarfz.datasets.COSMOS(COSMOS_filename)"
   ]
  },
  {
   "cell_type": "code",
   "execution_count": 3,
   "metadata": {},
   "outputs": [],
   "source": [
    "HSC_filename = os.path.join(dwarfz.data_dir_default, \"HSC_COSMOS_median_forced.sqlite3\")\n",
    "HSC = dwarfz.datasets.HSC(HSC_filename)"
   ]
  },
  {
   "cell_type": "code",
   "execution_count": 4,
   "metadata": {},
   "outputs": [],
   "source": [
    "matches_filename = os.path.join(dwarfz.data_dir_default, \"matches.sqlite3\")\n",
    "matches_df = dwarfz.matching.Matches.load_from_filename(matches_filename)"
   ]
  },
  {
   "cell_type": "code",
   "execution_count": 5,
   "metadata": {},
   "outputs": [],
   "source": [
    "combined = matches_df[matches_df.match].copy()\n",
    "combined[\"ra\"]       = COSMOS.df.loc[combined.index].ra\n",
    "combined[\"dec\"]      = COSMOS.df.loc[combined.index].dec\n",
    "combined[\"photo_z\"]  = COSMOS.df.loc[combined.index].photo_z\n",
    "combined[\"log_mass\"] = COSMOS.df.loc[combined.index].mass_med\n",
    "\n",
    "photometry_cols = [\n",
    "    \"gcmodel_flux\",\"gcmodel_flux_err\",\"gcmodel_flux_flags\", \"gcmodel_mag\",\n",
    "    \"rcmodel_flux\",\"rcmodel_flux_err\",\"rcmodel_flux_flags\", \"rcmodel_mag\",\n",
    "    \"icmodel_flux\",\"icmodel_flux_err\",\"icmodel_flux_flags\", \"icmodel_mag\",\n",
    "    \"zcmodel_flux\",\"zcmodel_flux_err\",\"zcmodel_flux_flags\", \"zcmodel_mag\",\n",
    "    \"ycmodel_flux\",\"ycmodel_flux_err\",\"ycmodel_flux_flags\", \"ycmodel_mag\",\n",
    "]\n",
    "\n",
    "for col in photometry_cols:\n",
    "    combined[col] = HSC.df.loc[combined.catalog_2_ids][col].values"
   ]
  },
  {
   "cell_type": "markdown",
   "metadata": {},
   "source": [
    "## Turn magnitudes into colors"
   ]
  },
  {
   "cell_type": "code",
   "execution_count": 6,
   "metadata": {},
   "outputs": [],
   "source": [
    "combined[\"g_minus_r\"] = combined.gcmodel_mag - combined.rcmodel_mag\n",
    "combined[\"r_minus_i\"] = combined.rcmodel_mag - combined.icmodel_mag\n",
    "combined[\"i_minus_z\"] = combined.icmodel_mag - combined.zcmodel_mag\n",
    "combined[\"z_minus_y\"] = combined.zcmodel_mag - combined.ycmodel_mag"
   ]
  },
  {
   "cell_type": "markdown",
   "metadata": {},
   "source": [
    "## Filter out bad data"
   ]
  },
  {
   "cell_type": "code",
   "execution_count": 7,
   "metadata": {},
   "outputs": [],
   "source": [
    "mask =    np.isfinite(combined[\"g_minus_r\"]) & np.isfinite(combined[\"r_minus_i\"]) \\\n",
    "        & np.isfinite(combined[\"i_minus_z\"]) & np.isfinite(combined[\"z_minus_y\"]) \\\n",
    "        & np.isfinite(combined[\"icmodel_mag\"]) \\\n",
    "        & (~combined.gcmodel_flux_flags) & (~combined.rcmodel_flux_flags) \\\n",
    "        & (~combined.icmodel_flux_flags) & (~combined.zcmodel_flux_flags) \\\n",
    "        & (~combined.ycmodel_flux_flags)\n",
    "\n",
    "combined = combined[mask]"
   ]
  },
  {
   "cell_type": "markdown",
   "metadata": {},
   "source": [
    "## Get FRANKENZ photo-z's\n"
   ]
  },
  {
   "cell_type": "code",
   "execution_count": 8,
   "metadata": {
    "scrolled": true
   },
   "outputs": [
    {
     "data": {
      "text/html": [
       "<div>\n",
       "<style>\n",
       "    .dataframe thead tr:only-child th {\n",
       "        text-align: right;\n",
       "    }\n",
       "\n",
       "    .dataframe thead th {\n",
       "        text-align: left;\n",
       "    }\n",
       "\n",
       "    .dataframe tbody tr th {\n",
       "        vertical-align: top;\n",
       "    }\n",
       "</style>\n",
       "<table border=\"1\" class=\"dataframe\">\n",
       "  <thead>\n",
       "    <tr style=\"text-align: right;\">\n",
       "      <th></th>\n",
       "      <th>FRANKENZ_ids</th>\n",
       "      <th>photoz_best</th>\n",
       "      <th>photoz_risk_best</th>\n",
       "    </tr>\n",
       "    <tr>\n",
       "      <th>object_id</th>\n",
       "      <th></th>\n",
       "      <th></th>\n",
       "      <th></th>\n",
       "    </tr>\n",
       "  </thead>\n",
       "  <tbody>\n",
       "    <tr>\n",
       "      <th>43158034708430853</th>\n",
       "      <td>43158034708462402</td>\n",
       "      <td>3.39</td>\n",
       "      <td>0.410430</td>\n",
       "    </tr>\n",
       "    <tr>\n",
       "      <th>43158034708430859</th>\n",
       "      <td>43158034708462728</td>\n",
       "      <td>2.68</td>\n",
       "      <td>0.186912</td>\n",
       "    </tr>\n",
       "    <tr>\n",
       "      <th>43158034708430861</th>\n",
       "      <td>43158034708462729</td>\n",
       "      <td>2.57</td>\n",
       "      <td>0.565077</td>\n",
       "    </tr>\n",
       "    <tr>\n",
       "      <th>43158034708430866</th>\n",
       "      <td>43158034708438547</td>\n",
       "      <td>1.59</td>\n",
       "      <td>0.466111</td>\n",
       "    </tr>\n",
       "    <tr>\n",
       "      <th>43158034708430870</th>\n",
       "      <td>43158034708438694</td>\n",
       "      <td>2.37</td>\n",
       "      <td>0.363387</td>\n",
       "    </tr>\n",
       "  </tbody>\n",
       "</table>\n",
       "</div>"
      ],
      "text/plain": [
       "                        FRANKENZ_ids  photoz_best  photoz_risk_best\n",
       "object_id                                                          \n",
       "43158034708430853  43158034708462402         3.39          0.410430\n",
       "43158034708430859  43158034708462728         2.68          0.186912\n",
       "43158034708430861  43158034708462729         2.57          0.565077\n",
       "43158034708430866  43158034708438547         1.59          0.466111\n",
       "43158034708430870  43158034708438694         2.37          0.363387"
      ]
     },
     "execution_count": 8,
     "metadata": {},
     "output_type": "execute_result"
    }
   ],
   "source": [
    "df_frankenz = pd.read_sql_table(\"photo_z\",\n",
    "                                \"sqlite:///{}\".format(\n",
    "                                    os.path.join(dwarfz.data_dir_default,\n",
    "                                                 \"HSC_matched_to_FRANKENZ.sqlite\")),\n",
    "                                index_col=\"object_id\")\n",
    "\n",
    "df_frankenz.head()"
   ]
  },
  {
   "cell_type": "code",
   "execution_count": 9,
   "metadata": {},
   "outputs": [],
   "source": [
    "combined = combined.join(df_frankenz[[\"photoz_best\", \"photoz_risk_best\"]],\n",
    "                         on=\"catalog_2_ids\")"
   ]
  },
  {
   "cell_type": "markdown",
   "metadata": {},
   "source": [
    "# Create classification labels"
   ]
  },
  {
   "cell_type": "code",
   "execution_count": 10,
   "metadata": {},
   "outputs": [],
   "source": [
    "low_z    = (combined.photo_z  < .15)\n",
    "low_mass = (combined.log_mass > 8) & (combined.log_mass < 9)"
   ]
  },
  {
   "cell_type": "code",
   "execution_count": 11,
   "metadata": {},
   "outputs": [
    {
     "data": {
      "text/plain": [
       "0.0021850729760273151"
      ]
     },
     "execution_count": 11,
     "metadata": {},
     "output_type": "execute_result"
    }
   ],
   "source": [
    "combined[\"low_z_low_mass\"] = (low_z & low_mass)\n",
    "combined.low_z_low_mass.mean()"
   ]
  },
  {
   "cell_type": "markdown",
   "metadata": {},
   "source": [
    "# Load scores for each galaxy\n",
    "This scores were created within `catalog_only_classifier/classifier_ROC_curves.ipynb`. These scores are also non-deterministic -- getting a new realization will lead to slightly different results (but hopefully with no dramatic changes)."
   ]
  },
  {
   "cell_type": "code",
   "execution_count": 13,
   "metadata": {},
   "outputs": [],
   "source": [
    "filename = \"galaxy_images_training/2017_09_26-dwarf_galaxy_scores.csv\""
   ]
  },
  {
   "cell_type": "code",
   "execution_count": 14,
   "metadata": {},
   "outputs": [
    {
     "name": "stdout",
     "output_type": "stream",
     "text": [
      "COSMOS_id,HSC_id,dwarf_prob,low_z_low_mass\r\n",
      "628457,43158322471244656,0.0,False\r\n",
      "919771,43158605939114836,0.0,False\r\n",
      "444239,43159142810013665,0.0,False\r\n",
      "569427,43158734788125011,0.06333333333333334,False\r\n",
      "369948,43158863637144621,0.6066666666666667,True\r\n",
      "774881,43158464205193248,0.0,False\r\n",
      "284143,43158309586361270,0.0,False\r\n",
      "910106,43158468500160065,0.0,False\r\n",
      "988664,43158747673006735,0.0,False\r\n",
      "718450,43159151399949013,0.0,False\r\n",
      "856273,43158193622240311,0.0,False\r\n",
      "627429,43158322471244576,0.0,False\r\n",
      "807370,43158468500150416,0.0,False\r\n",
      "746672,43158464205165131,0.0,False\r\n",
      "901924,43159018255969735,0.0,False\r\n",
      "902781,43158468500159652,0.0,False\r\n",
      "845231,43158743378044104,0.0,False\r\n",
      "323432,43158588759212951,0.0,False\r\n",
      "256187,43158584464272098,0.0,False\r\n"
     ]
    }
   ],
   "source": [
    "!head -n 20 $filename"
   ]
  },
  {
   "cell_type": "code",
   "execution_count": 15,
   "metadata": {},
   "outputs": [
    {
     "data": {
      "text/html": [
       "<div>\n",
       "<style>\n",
       "    .dataframe thead tr:only-child th {\n",
       "        text-align: right;\n",
       "    }\n",
       "\n",
       "    .dataframe thead th {\n",
       "        text-align: left;\n",
       "    }\n",
       "\n",
       "    .dataframe tbody tr th {\n",
       "        vertical-align: top;\n",
       "    }\n",
       "</style>\n",
       "<table border=\"1\" class=\"dataframe\">\n",
       "  <thead>\n",
       "    <tr style=\"text-align: right;\">\n",
       "      <th></th>\n",
       "      <th>COSMOS_id</th>\n",
       "      <th>HSC_id</th>\n",
       "      <th>dwarf_prob</th>\n",
       "      <th>low_z_low_mass</th>\n",
       "    </tr>\n",
       "  </thead>\n",
       "  <tbody>\n",
       "    <tr>\n",
       "      <th>0</th>\n",
       "      <td>628457</td>\n",
       "      <td>43158322471244656</td>\n",
       "      <td>0.000000</td>\n",
       "      <td>False</td>\n",
       "    </tr>\n",
       "    <tr>\n",
       "      <th>1</th>\n",
       "      <td>919771</td>\n",
       "      <td>43158605939114836</td>\n",
       "      <td>0.000000</td>\n",
       "      <td>False</td>\n",
       "    </tr>\n",
       "    <tr>\n",
       "      <th>2</th>\n",
       "      <td>444239</td>\n",
       "      <td>43159142810013665</td>\n",
       "      <td>0.000000</td>\n",
       "      <td>False</td>\n",
       "    </tr>\n",
       "    <tr>\n",
       "      <th>3</th>\n",
       "      <td>569427</td>\n",
       "      <td>43158734788125011</td>\n",
       "      <td>0.063333</td>\n",
       "      <td>False</td>\n",
       "    </tr>\n",
       "    <tr>\n",
       "      <th>4</th>\n",
       "      <td>369948</td>\n",
       "      <td>43158863637144621</td>\n",
       "      <td>0.606667</td>\n",
       "      <td>True</td>\n",
       "    </tr>\n",
       "  </tbody>\n",
       "</table>\n",
       "</div>"
      ],
      "text/plain": [
       "   COSMOS_id             HSC_id  dwarf_prob  low_z_low_mass\n",
       "0     628457  43158322471244656    0.000000           False\n",
       "1     919771  43158605939114836    0.000000           False\n",
       "2     444239  43159142810013665    0.000000           False\n",
       "3     569427  43158734788125011    0.063333           False\n",
       "4     369948  43158863637144621    0.606667            True"
      ]
     },
     "execution_count": 15,
     "metadata": {},
     "output_type": "execute_result"
    }
   ],
   "source": [
    "df_dwarf_prob = pd.read_csv(filename)\n",
    "df_dwarf_prob.head()"
   ]
  },
  {
   "cell_type": "code",
   "execution_count": 16,
   "metadata": {},
   "outputs": [],
   "source": [
    "theoretical_probs=np.linspace(0,1,num=20+1)"
   ]
  },
  {
   "cell_type": "code",
   "execution_count": 17,
   "metadata": {},
   "outputs": [],
   "source": [
    "empirical_probs_RF = np.empty(theoretical_probs.size-1)"
   ]
  },
  {
   "cell_type": "code",
   "execution_count": 18,
   "metadata": {},
   "outputs": [
    {
     "name": "stderr",
     "output_type": "stream",
     "text": [
      "/Users/egentry/anaconda3/lib/python3.6/site-packages/numpy/core/fromnumeric.py:2909: RuntimeWarning: Mean of empty slice.\n",
      "  out=out, **kwargs)\n"
     ]
    }
   ],
   "source": [
    "for i in range(theoretical_probs.size-1):\n",
    "    prob_lim_low  = theoretical_probs[i]\n",
    "    prob_lim_high = theoretical_probs[i+1]\n",
    "    \n",
    "    mask_RF = (df_dwarf_prob.dwarf_prob >= prob_lim_low) & (df_dwarf_prob.dwarf_prob < prob_lim_high)\n",
    "    empirical_probs_RF[i] = df_dwarf_prob.low_z_low_mass[mask_RF].mean()"
   ]
  },
  {
   "cell_type": "code",
   "execution_count": 19,
   "metadata": {},
   "outputs": [
    {
     "data": {
      "text/plain": [
       "(0, 1)"
      ]
     },
     "execution_count": 19,
     "metadata": {},
     "output_type": "execute_result"
    },
    {
     "data": {
      "image/png": "[encoded data removed]",
      "text/plain": [
       "<matplotlib.figure.Figure at 0x1131dd5f8>"
      ]
     },
     "metadata": {},
     "output_type": "display_data"
    },
    {
     "data": {
      "image/png": "[encoded data removed]",
      "text/plain": [
       "<matplotlib.figure.Figure at 0x1045024e0>"
      ]
     },
     "metadata": {},
     "output_type": "display_data"
    }
   ],
   "source": [
    "color_RF = \"g\"\n",
    "label_RF = \"Random Forest\"\n",
    "\n",
    "plt.hist(df_dwarf_prob.dwarf_prob, bins=theoretical_probs)\n",
    "plt.xlim(0,1)\n",
    "plt.yscale(\"log\")\n",
    "plt.ylabel(\"counts\")\n",
    "\n",
    "plt.figure()\n",
    "\n",
    "\n",
    "plt.step(theoretical_probs, [empirical_probs_RF[0], *empirical_probs_RF], \n",
    "         linestyle=\"steps\", color=color_RF, label=label_RF)\n",
    "\n",
    "plt.plot(theoretical_probs, theoretical_probs-.05, \n",
    "         drawstyle=\"steps\", color=\"black\", label=\"ideal\", linestyle=\"dashed\")\n",
    "\n",
    "plt.xlabel(\"Reported Probability\")\n",
    "plt.ylabel(\"Actual (Binned) Probability\")\n",
    "\n",
    "plt.legend(loc=\"best\")\n",
    "\n",
    "plt.xlim(0,1)\n",
    "plt.ylim(0,1)\n"
   ]
  },
  {
   "cell_type": "markdown",
   "metadata": {},
   "source": [
    "## select the best 1000 / sq.deg."
   ]
  },
  {
   "cell_type": "code",
   "execution_count": 21,
   "metadata": {},
   "outputs": [],
   "source": [
    "COSMOS_field_area = 2 # sq. deg."
   ]
  },
  {
   "cell_type": "code",
   "execution_count": 22,
   "metadata": {},
   "outputs": [
    {
     "name": "stdout",
     "output_type": "stream",
     "text": [
      "sample size:  2000\n"
     ]
    }
   ],
   "source": [
    "sample_size = int(1000 * COSMOS_field_area)\n",
    "print(\"sample size: \", sample_size)"
   ]
  },
  {
   "cell_type": "code",
   "execution_count": 23,
   "metadata": {},
   "outputs": [
    {
     "name": "stdout",
     "output_type": "stream",
     "text": [
      "threshold:  0.0766666666667\n",
      "galaxies at or above threshold:  2034\n"
     ]
    }
   ],
   "source": [
    "selected_galaxies = df_dwarf_prob.sort_values(\"dwarf_prob\", ascending=False)[:sample_size]\n",
    "print(\"threshold: \", selected_galaxies.dwarf_prob.min())\n",
    "print(\"galaxies at or above threshold: \", (df_dwarf_prob.dwarf_prob>=selected_galaxies.dwarf_prob.min()).sum() )"
   ]
  },
  {
   "cell_type": "code",
   "execution_count": 24,
   "metadata": {},
   "outputs": [
    {
     "data": {
      "text/plain": [
       "0.0"
      ]
     },
     "execution_count": 24,
     "metadata": {},
     "output_type": "execute_result"
    }
   ],
   "source": [
    "df_dwarf_prob.dwarf_prob.min()"
   ]
  },
  {
   "cell_type": "code",
   "execution_count": 25,
   "metadata": {},
   "outputs": [
    {
     "data": {
      "image/png": "[encoded data removed]",
      "text/plain": [
       "<matplotlib.figure.Figure at 0x137438cf8>"
      ]
     },
     "metadata": {},
     "output_type": "display_data"
    }
   ],
   "source": [
    "bins = np.linspace(0,1, num=100)\n",
    "\n",
    "plt.hist(df_dwarf_prob.dwarf_prob, bins=bins, label=\"RF score\")\n",
    "\n",
    "plt.axvline(selected_galaxies.dwarf_prob.min(), linestyle=\"dashed\", color=\"black\", label=\"threshold\")\n",
    "\n",
    "plt.legend(loc=\"best\")\n",
    "\n",
    "plt.xlabel(\"Dwarf Prob.\")\n",
    "plt.ylabel(\"counts (galaxies)\")\n",
    "plt.yscale(\"log\")"
   ]
  },
  {
   "cell_type": "code",
   "execution_count": 26,
   "metadata": {},
   "outputs": [
    {
     "data": {
      "text/plain": [
       "0.27750000000000002"
      ]
     },
     "execution_count": 26,
     "metadata": {},
     "output_type": "execute_result"
    }
   ],
   "source": [
    "# how balanced is the CNN training set? What fraction are actually dwarfs?\n",
    "selected_galaxies.low_z_low_mass.mean()"
   ]
  },
  {
   "cell_type": "markdown",
   "metadata": {},
   "source": [
    "# Get the images from the quarry\n",
    "\n",
    "For technical details, see: https://hsc-release.mtk.nao.ac.jp/das_quarry/manual.html"
   ]
  },
  {
   "cell_type": "markdown",
   "metadata": {},
   "source": [
    "## Create a coordinates list"
   ]
  },
  {
   "cell_type": "code",
   "execution_count": 27,
   "metadata": {},
   "outputs": [
    {
     "data": {
      "text/html": [
       "<div>\n",
       "<style>\n",
       "    .dataframe thead tr:only-child th {\n",
       "        text-align: right;\n",
       "    }\n",
       "\n",
       "    .dataframe thead th {\n",
       "        text-align: left;\n",
       "    }\n",
       "\n",
       "    .dataframe tbody tr th {\n",
       "        vertical-align: top;\n",
       "    }\n",
       "</style>\n",
       "<table border=\"1\" class=\"dataframe\">\n",
       "  <thead>\n",
       "    <tr style=\"text-align: right;\">\n",
       "      <th></th>\n",
       "      <th>ra</th>\n",
       "      <th>dec</th>\n",
       "    </tr>\n",
       "    <tr>\n",
       "      <th>object_id</th>\n",
       "      <th></th>\n",
       "      <th></th>\n",
       "    </tr>\n",
       "  </thead>\n",
       "  <tbody>\n",
       "    <tr>\n",
       "      <th>43158867932114914</th>\n",
       "      <td>149.796491</td>\n",
       "      <td>2.068317</td>\n",
       "    </tr>\n",
       "    <tr>\n",
       "      <th>43159005371060865</th>\n",
       "      <td>149.732554</td>\n",
       "      <td>1.952818</td>\n",
       "    </tr>\n",
       "    <tr>\n",
       "      <th>43158447025318464</th>\n",
       "      <td>150.464235</td>\n",
       "      <td>1.740864</td>\n",
       "    </tr>\n",
       "    <tr>\n",
       "      <th>43158318176298953</th>\n",
       "      <td>150.653618</td>\n",
       "      <td>2.066278</td>\n",
       "    </tr>\n",
       "    <tr>\n",
       "      <th>43158322471241683</th>\n",
       "      <td>150.685796</td>\n",
       "      <td>2.183352</td>\n",
       "    </tr>\n",
       "  </tbody>\n",
       "</table>\n",
       "</div>"
      ],
      "text/plain": [
       "                           ra       dec\n",
       "object_id                              \n",
       "43158867932114914  149.796491  2.068317\n",
       "43159005371060865  149.732554  1.952818\n",
       "43158447025318464  150.464235  1.740864\n",
       "43158318176298953  150.653618  2.066278\n",
       "43158322471241683  150.685796  2.183352"
      ]
     },
     "execution_count": 27,
     "metadata": {},
     "output_type": "execute_result"
    }
   ],
   "source": [
    "selected_galaxy_coords = HSC.df.loc[selected_galaxies.HSC_id][[\"ra\", \"dec\"]]\n",
    "selected_galaxy_coords.head()"
   ]
  },
  {
   "cell_type": "code",
   "execution_count": 122,
   "metadata": {},
   "outputs": [],
   "source": [
    "selected_galaxy_coords.to_csv(\"galaxy_images_training/2017_09_26-selected_galaxy_coords.csv\")"
   ]
  },
  {
   "cell_type": "code",
   "execution_count": 29,
   "metadata": {},
   "outputs": [],
   "source": [
    "width = \"20asec\"\n",
    "filters = [\"HSC-G\", \"HSC-R\", \"HSC-I\", \"HSC-Z\", \"HSC-Y\"]\n",
    "rerun = \"pdr1_deep\""
   ]
  },
  {
   "cell_type": "code",
   "execution_count": 49,
   "metadata": {},
   "outputs": [],
   "source": [
    "tmp_filename = \"galaxy_images_training/tmp_quarry.txt\"\n",
    "tmp_filename_missing_ext = tmp_filename[:-3]\n",
    "\n",
    "with open(tmp_filename, mode=\"w\") as f:\n",
    "\n",
    "#     print(\"#?     ra          dec       filter   sw      sh      rerun\", file=f)\n",
    "\n",
    "    print_formatter = \" {galaxy.ra:.6f}deg  {galaxy.dec:.6f}deg  {filter}  {width}  {width}  {rerun}\"\n",
    "    for galaxy in selected_galaxy_coords.itertuples():\n",
    "\n",
    "        for filter in filters:\n",
    "            print(print_formatter.format(galaxy=galaxy,\n",
    "                                         width=width,\n",
    "                                         filter=filter,\n",
    "                                         rerun=rerun),\n",
    "                  file=f)"
   ]
  },
  {
   "cell_type": "code",
   "execution_count": 51,
   "metadata": {
    "scrolled": false
   },
   "outputs": [
    {
     "name": "stdout",
     "output_type": "stream",
     "text": [
      " 149.796491deg  2.068317deg  HSC-G  20asec  20asec  pdr1_deep\r\n",
      " 149.796491deg  2.068317deg  HSC-R  20asec  20asec  pdr1_deep\r\n",
      " 149.796491deg  2.068317deg  HSC-I  20asec  20asec  pdr1_deep\r\n",
      " 149.796491deg  2.068317deg  HSC-Z  20asec  20asec  pdr1_deep\r\n",
      " 149.796491deg  2.068317deg  HSC-Y  20asec  20asec  pdr1_deep\r\n",
      " 149.732554deg  1.952818deg  HSC-G  20asec  20asec  pdr1_deep\r\n",
      " 149.732554deg  1.952818deg  HSC-R  20asec  20asec  pdr1_deep\r\n",
      " 149.732554deg  1.952818deg  HSC-I  20asec  20asec  pdr1_deep\r\n",
      " 149.732554deg  1.952818deg  HSC-Z  20asec  20asec  pdr1_deep\r\n",
      " 149.732554deg  1.952818deg  HSC-Y  20asec  20asec  pdr1_deep\r\n"
     ]
    }
   ],
   "source": [
    "!head -n 10 $tmp_filename"
   ]
  },
  {
   "cell_type": "code",
   "execution_count": 52,
   "metadata": {},
   "outputs": [
    {
     "name": "stdout",
     "output_type": "stream",
     "text": [
      "   10000 galaxy_images_training/tmp_quarry.txt\r\n"
     ]
    }
   ],
   "source": [
    "!wc -l $tmp_filename"
   ]
  },
  {
   "cell_type": "code",
   "execution_count": 53,
   "metadata": {},
   "outputs": [],
   "source": [
    "!split -a 1 -l 1000 $tmp_filename $tmp_filename_missing_ext"
   ]
  },
  {
   "cell_type": "markdown",
   "metadata": {},
   "source": [
    "To do: I need to find a way to deal with the script below when there aren't any files to process (i.e. they've already been processeded)"
   ]
  },
  {
   "cell_type": "code",
   "execution_count": 72,
   "metadata": {},
   "outputs": [],
   "source": [
    "for filename_old in sorted(glob.glob(\"galaxy_images_training/tmp_quarry.?\")):\n",
    "    filename_new =  filename_old + \".txt\"\n",
    "    \n",
    "    with open(filename_new, mode=\"w\") as f_new:\n",
    "        f_new.write(\"#?     ra           dec      filter   sw      sh      rerun\\n\")\n",
    "\n",
    "        with open(filename_old, mode=\"r\") as f_old:\n",
    "            data = f_old.read()\n",
    "        f_new.write(data)\n",
    "        \n",
    "    os.remove(filename_old)"
   ]
  },
  {
   "cell_type": "code",
   "execution_count": 74,
   "metadata": {},
   "outputs": [
    {
     "name": "stdout",
     "output_type": "stream",
     "text": [
      "2017_09_26-coords.csv              tmp_quarry.f.txt\r\n",
      "2017_09_26-dwarf_galaxy_scores.csv tmp_quarry.g.txt\r\n",
      "tmp_quarry.a.txt                   tmp_quarry.h.txt\r\n",
      "tmp_quarry.b.txt                   tmp_quarry.i.txt\r\n",
      "tmp_quarry.c.txt                   tmp_quarry.j.txt\r\n",
      "tmp_quarry.d.txt                   tmp_quarry.txt\r\n",
      "tmp_quarry.e.txt\r\n"
     ]
    }
   ],
   "source": [
    "!ls galaxy_images_training/"
   ]
  },
  {
   "cell_type": "markdown",
   "metadata": {},
   "source": [
    "###  Make the request via curl\n",
    "\n",
    "1)\n",
    "\n",
    "First you need to setup you authentication information. Add it to a file like `galaxy_images_training/curl_netrc` which should look like:\n",
    "```machine hsc-release.mtk.nao.ac.jp login <your username> password <your password>```\n",
    "This allows you to script the curl calls, without being prompted for your password each time\n",
    "\n",
    "2a) \n",
    "\n",
    "The `curl` call (in (2b)) will spit out files into a somewhat unpredicatably named directory, like `arch-170928-231223`. You should rename this to match the batch suffix. You *really should* do this right away, so you don't get confused. In general I add the rename onto the same line as the curl call:\n",
    "``` curl ... | tar xvf - && mv arch-* quarry_files_a     ```\n",
    "\n",
    "This only works if it finds one `arch-` directory, but you *really* shouldn't have multiple arch directories at any given time; that's a recipe for getting your galaxies mixed up.\n",
    "\n",
    "2b) \n",
    "\n",
    "Here's the actual curl invocation:\n",
    "\n",
    "``` curl --netrc-file galaxy_images_training/curl_netrc https://hsc-release.mtk.nao.ac.jp/das_quarry/cgi-bin/quarryImage --form list=@<coord list filename> | tar xvf -     ```\n",
    "\n"
   ]
  },
  {
   "cell_type": "code",
   "execution_count": 82,
   "metadata": {},
   "outputs": [
    {
     "name": "stdout",
     "output_type": "stream",
     "text": [
      "#?     ra           dec      filter   sw      sh      rerun\r\n",
      " 149.796491deg  2.068317deg  HSC-G  20asec  20asec  pdr1_deep\r\n",
      " 149.796491deg  2.068317deg  HSC-R  20asec  20asec  pdr1_deep\r\n",
      " 149.796491deg  2.068317deg  HSC-I  20asec  20asec  pdr1_deep\r\n",
      " 149.796491deg  2.068317deg  HSC-Z  20asec  20asec  pdr1_deep\r\n",
      " 149.796491deg  2.068317deg  HSC-Y  20asec  20asec  pdr1_deep\r\n",
      " 149.732554deg  1.952818deg  HSC-G  20asec  20asec  pdr1_deep\r\n",
      " 149.732554deg  1.952818deg  HSC-R  20asec  20asec  pdr1_deep\r\n",
      " 149.732554deg  1.952818deg  HSC-I  20asec  20asec  pdr1_deep\r\n",
      " 149.732554deg  1.952818deg  HSC-Z  20asec  20asec  pdr1_deep\r\n"
     ]
    }
   ],
   "source": [
    "!head -n 10 galaxy_images_training/tmp_quarry.a.txt"
   ]
  },
  {
   "cell_type": "code",
   "execution_count": 92,
   "metadata": {},
   "outputs": [
    {
     "name": "stdout",
     "output_type": "stream",
     "text": [
      "total 478080\r\n",
      "-rw-r--r--@ 1 egentry  staff   236K Sep 28 10:09 2-cutout-HSC-G-9813-pdr1_deep.fits\r\n",
      "-rw-r--r--@ 1 egentry  staff   236K Sep 28 10:09 3-cutout-HSC-R-9813-pdr1_deep.fits\r\n",
      "-rw-r--r--@ 1 egentry  staff   236K Sep 28 10:09 4-cutout-HSC-I-9813-pdr1_deep.fits\r\n",
      "-rw-r--r--@ 1 egentry  staff   236K Sep 28 10:09 5-cutout-HSC-Z-9813-pdr1_deep.fits\r\n",
      "-rw-r--r--@ 1 egentry  staff   236K Sep 28 10:09 6-cutout-HSC-Y-9813-pdr1_deep.fits\r\n",
      "-rw-r--r--@ 1 egentry  staff   236K Sep 28 10:09 7-cutout-HSC-G-9813-pdr1_deep.fits\r\n",
      "-rw-r--r--@ 1 egentry  staff   236K Sep 28 10:09 8-cutout-HSC-R-9813-pdr1_deep.fits\r\n",
      "-rw-r--r--@ 1 egentry  staff   236K Sep 28 10:09 9-cutout-HSC-I-9813-pdr1_deep.fits\r\n",
      "-rw-r--r--@ 1 egentry  staff   236K Sep 28 10:09 10-cutout-HSC-Z-9813-pdr1_deep.fits\r\n",
      "-rw-r--r--@ 1 egentry  staff   236K Sep 28 10:09 11-cutout-HSC-Y-9813-pdr1_deep.fits\r\n"
     ]
    }
   ],
   "source": [
    "!ls -lhtr galaxy_images_training/quarry_files_a | head -n 11"
   ]
  },
  {
   "cell_type": "markdown",
   "metadata": {},
   "source": [
    "# rename files with HSC-id\n",
    "steps:\n",
    "\n",
    "1) figure out what suffix we're using (e.g. `\"a\"`)\n",
    "\n",
    "2) convert suffix into zero-indexed integer (e.g. `0`)\n",
    "\n",
    "3) determine which HSC-ids corresponded to that file\n",
    "  - e.g. from `suffix_int*200` to `(suffix_int+1)*200`\n",
    "    \n",
    "4) swapping the line number prefix with an HSC_id prefix, while preserving the rest of the filename (esp. the band information)\n"
   ]
  },
  {
   "cell_type": "markdown",
   "metadata": {},
   "source": [
    "### make target directory\n",
    "This'll hold the renamed files for *all* the batches"
   ]
  },
  {
   "cell_type": "code",
   "execution_count": 93,
   "metadata": {},
   "outputs": [],
   "source": [
    "!mkdir -p galaxy_images_training/quarry_files"
   ]
  },
  {
   "cell_type": "markdown",
   "metadata": {},
   "source": [
    "### set prefix"
   ]
  },
  {
   "cell_type": "code",
   "execution_count": 96,
   "metadata": {},
   "outputs": [],
   "source": [
    "prefix_map = { char:i for i, char in enumerate([\"a\",\"b\",\"c\",\"d\",\"e\",\n",
    "                                                \"f\",\"g\",\"h\",\"i\",\"j\"])\n",
    "}"
   ]
  },
  {
   "cell_type": "code",
   "execution_count": 97,
   "metadata": {},
   "outputs": [
    {
     "name": "stdout",
     "output_type": "stream",
     "text": [
      "0\n"
     ]
    }
   ],
   "source": [
    "prefix = \"a\"\n",
    "prefix_int = prefix_map[prefix]\n",
    "\n",
    "print(prefix_int)"
   ]
  },
  {
   "cell_type": "markdown",
   "metadata": {},
   "source": [
    "### find which files are missing\n",
    "What should I do about these incomplete files? idk, I guess just throw them out for now."
   ]
  },
  {
   "cell_type": "code",
   "execution_count": 109,
   "metadata": {},
   "outputs": [],
   "source": [
    "files = glob.glob(\"galaxy_images_training/quarry_files_{prefix}/*\".format(prefix=prefix))\n",
    "file_numbers = [int(os.path.basename(file).split(\"-\")[0]) for file in files]\n",
    "file_numbers = np.array(sorted(file_numbers))"
   ]
  },
  {
   "cell_type": "code",
   "execution_count": 113,
   "metadata": {},
   "outputs": [
    {
     "name": "stdout",
     "output_type": "stream",
     "text": [
      "missing file numbers:  [602 603 827 828]\n"
     ]
    }
   ],
   "source": [
    "desired_range = np.arange(2,1002)\n",
    "print(\"missing file numbers: \", desired_range[~np.isin(desired_range, file_numbers)])"
   ]
  },
  {
   "cell_type": "markdown",
   "metadata": {},
   "source": [
    "### get HSC ids for index"
   ]
  },
  {
   "cell_type": "code",
   "execution_count": 114,
   "metadata": {},
   "outputs": [
    {
     "name": "stdout",
     "output_type": "stream",
     "text": [
      "0 200\n"
     ]
    }
   ],
   "source": [
    "i_start = prefix_int*200\n",
    "i_end = (prefix_int+1)*200\n",
    "print(i_start, i_end)\n",
    "HSC_ids_for_prefix = selected_galaxies.iloc[i_start:i_end].HSC_id.values"
   ]
  },
  {
   "cell_type": "code",
   "execution_count": 115,
   "metadata": {},
   "outputs": [
    {
     "data": {
      "text/plain": [
       "array([43158867932114914, 43159005371060865, 43158447025318464,\n",
       "       43158318176298953, 43158322471241683, 43159134220067726,\n",
       "       43158743378067391, 43159147104979540, 43159018255944554,\n",
       "       43158876522051604, 43158605939114353, 43158863637144619,\n",
       "       43158468500160019, 43158743378064543, 43159138515050818,\n",
       "       43158588759241814, 43158605939111439, 43158593054203646,\n",
       "       43158726198193805, 43158331061198463, 43158447025317690,\n",
       "       43158867932109423, 43158331061199021, 43159001076075627,\n",
       "       43158863637141906, 43158455615252247, 43159018255970241,\n",
       "       43158468500151314, 43158743378061516, 43159022550928968,\n",
       "       43158996781127885, 43158885111981225, 43158468500157242,\n",
       "       43159001076101324, 43158743378042636, 43158588759240069,\n",
       "       43158322471244647, 43159138515047809, 43159009666030738,\n",
       "       43158743378060916, 43158863637119173, 43158863637140239,\n",
       "       43158730493155839, 43158859342177262, 43158593054202740,\n",
       "       43158584464276697, 43158863637143545, 43159001076092901,\n",
       "       43159009666034025, 43159009666009212, 43159142810018765,\n",
       "       43158872227082235, 43158468500149853, 43159005371067560,\n",
       "       43158584464274642, 43158468500154629, 43158610234070252,\n",
       "       43158326766233624, 43158880817013884, 43158747673024698,\n",
       "       43158747673029213, 43158885111978603, 43158189327273863,\n",
       "       43158331061201339, 43158318176293718, 43159151399950498,\n",
       "       43158885111980528, 43159001076097263, 43159001076101088,\n",
       "       43158472795123292, 43158322471270603, 43158331061203993,\n",
       "       43159009666038469, 43158322471260734, 43158464205186765,\n",
       "       43158876522055148, 43159001076095027, 43158331061203296,\n",
       "       43158468500157919, 43158593054180576, 43158730493161798,\n",
       "       43158455615254823, 43158880817017220, 43158876522051344,\n",
       "       43159001076096759, 43158451320287831, 43158447025313293,\n",
       "       43158472795118964, 43158743378058279, 43158472795123395,\n",
       "       43158455615254012, 43159013961002709, 43158743378064508,\n",
       "       43158322471264441, 43158455615258983, 43158863637146817,\n",
       "       43158867932115848, 43159013960999918, 43158726198196047,\n",
       "       43158180737339679, 43158331061200562, 43159005371067730,\n",
       "       43158472795121235, 43158468500158354, 43158593054204732,\n",
       "       43158185032311654, 43158876522048397, 43158455615249538,\n",
       "       43158859342175607, 43158322471262948, 43158739083072822,\n",
       "       43158472795122767, 43159151399954038, 43158588759235925,\n",
       "       43158885111978357, 43158885111977352, 43158863637144262,\n",
       "       43158996781123177, 43158451320284621, 43158468500158709,\n",
       "       43158734788129824, 43158739083098617, 43158451320280135,\n",
       "       43158313881334452, 43158455615250480, 43158996781126036,\n",
       "       43158322471265770, 43158455615251550, 43158472795123129,\n",
       "       43158867932115506, 43158876522052696, 43158472795121915,\n",
       "       43159138515050198, 43158185032315010, 43158447025316931,\n",
       "       43158464205189955, 43158726198188957, 43158743378068506,\n",
       "       43158996781125431, 43159138515049437, 43159022550929935,\n",
       "       43158859342154747, 43158584464276082, 43159018255961916,\n",
       "       43158880817013719, 43158331061179078, 43158876522045844,\n",
       "       43158872227081124, 43159151399928308, 43158464205186485,\n",
       "       43158867932113785, 43158730493155817, 43158593054205012,\n",
       "       43158326766212763, 43159005371067700, 43159001076101362,\n",
       "       43158739083097888, 43158610234070120, 43158863637149694,\n",
       "       43158464205194479, 43158185032288694, 43158863637148774,\n",
       "       43158472795122037, 43159001076076524, 43159005371063781,\n",
       "       43158597349177995, 43158455615253197, 43158326766234214,\n",
       "       43158863637144621, 43158880817013882, 43159138515050193,\n",
       "       43159138515048950, 43159155694915907, 43159009666034302,\n",
       "       43158876522049957, 43158318176293755, 43158880817018125,\n",
       "       43158863637145960, 43158588759237215, 43158451320266144,\n",
       "       43158880817010212, 43159147104965731, 43159147104981108,\n",
       "       43158468500158292, 43159013961000769, 43158331061201601,\n",
       "       43158743378063493, 43158863637121911, 43158451320290260,\n",
       "       43158472795123629, 43158455615255640, 43158588759240576,\n",
       "       43158189327275122, 43159142810017538, 43158447025318498,\n",
       "       43158863637140646, 43158189327273433, 43158610234049047,\n",
       "       43158326766227761, 43158610234073489])"
      ]
     },
     "execution_count": 115,
     "metadata": {},
     "output_type": "execute_result"
    }
   ],
   "source": [
    "HSC_ids_for_prefix"
   ]
  },
  {
   "cell_type": "code",
   "execution_count": 117,
   "metadata": {},
   "outputs": [
    {
     "name": "stdout",
     "output_type": "stream",
     "text": [
      "skipping missing i_file=602\n",
      "skipping missing i_file=603\n",
      "skipping missing i_file=827\n",
      "skipping missing i_file=828\n"
     ]
    }
   ],
   "source": [
    "i_file = 1\n",
    "for HSC_id in HSC_ids_for_prefix:\n",
    "    for filter in filters:\n",
    "        i_file += 1\n",
    "\n",
    "        filenames = glob.glob(\"galaxy_images_training/quarry_files_{prefix}/{i_file}-*-{filter}-*.fits\".format(\n",
    "            prefix=prefix,\n",
    "            i_file=i_file, \n",
    "            filter=filter))\n",
    "        if len(filenames) > 1:\n",
    "            raise ValueError(\"too many matching files for i_file={}\".format(i_file))\n",
    "        elif len(filenames) == 0:\n",
    "            print(\"skipping missing i_file={}\".format(i_file))\n",
    "            continue\n",
    "            \n",
    "        old_filename = filenames[0]\n",
    "        new_filename = old_filename.replace(\"/{i_file}-\".format(i_file=i_file),\n",
    "                                            \"/{HSC_id}-\".format(HSC_id=HSC_id))\n",
    "        new_filename = new_filename.replace(\"quarry_files_{prefix}\".format(prefix=prefix),\n",
    "                                            \"quarry_files\")\n",
    "        \n",
    "        if os.path.exists(old_filename):\n",
    "            # for now use a copy operation, so I can fix things if it breaks, \n",
    "            # but later this should be a move instead\n",
    "            \n",
    "            os.rename(old_filename, new_filename)\n",
    "        "
   ]
  },
  {
   "cell_type": "code",
   "execution_count": null,
   "metadata": {},
   "outputs": [],
   "source": []
  },
  {
   "cell_type": "markdown",
   "metadata": {},
   "source": [
    "# clean up old files"
   ]
  },
  {
   "cell_type": "code",
   "execution_count": 121,
   "metadata": {},
   "outputs": [],
   "source": [
    "for file in glob.glob(\"galaxy_images_training/tmp_quarry.?.txt\"):\n",
    "    os.remove(file)"
   ]
  },
  {
   "cell_type": "code",
   "execution_count": 123,
   "metadata": {},
   "outputs": [],
   "source": [
    "for file in glob.glob(\"galaxy_images_training/quarry_files_?\"):\n",
    "    # will fail if the directory isn't empty\n",
    "    # (directory should be empty after moving the renamed files to `quarry_files`)\n",
    "    os.rmdir(file)"
   ]
  },
  {
   "cell_type": "code",
   "execution_count": 124,
   "metadata": {},
   "outputs": [],
   "source": [
    "filename = \"galaxy_images_training/tmp_quarry.txt\"\n",
    "if os.path.exists(filename):\n",
    "    os.remove(filename)"
   ]
  },
  {
   "cell_type": "code",
   "execution_count": null,
   "metadata": {},
   "outputs": [],
   "source": []
  }
 ],
 "metadata": {
  "anaconda-cloud": {},
  "kernelspec": {
   "display_name": "Python 3",
   "language": "python",
   "name": "python3"
  },
  "language_info": {
   "codemirror_mode": {
    "name": "ipython",
    "version": 3
   },
   "file_extension": ".py",
   "mimetype": "text/x-python",
   "name": "python",
   "nbconvert_exporter": "python",
   "pygments_lexer": "ipython3",
   "version": "3.6.4"
  }
 },
 "nbformat": 4,
 "nbformat_minor": 2
}

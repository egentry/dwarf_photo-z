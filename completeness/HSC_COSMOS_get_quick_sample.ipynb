{
 "cells": [
  {
   "cell_type": "markdown",
   "metadata": {
    "deletable": true,
    "editable": true
   },
   "source": [
    "# What do I want?\n",
    "\n",
    "Previously in `HSC_COSMOS_filtering.ipynb` I tested out some basic classifiers to get a smaller sample set, while still keeping completeness high.  I tested two basic classifiers: a RandomForest classifier and a Logistic Regression classifier.\n",
    "\n",
    "For my training data, I started by getting objects and labels from COSMOS. For input features, I then matched those COSMOS galaxies to their nearest HSC counterpart. I then used HSC i-band magnitude, along with HSC g-r, r-i, i-z, z-y colors.\n",
    "\n",
    "Choosing some arbitrary thresholds, I got similar results for the Random Forest and the Logistic Regression classifiers. In this notebook I'll look at the full ROC curves for both classifiers, in hopes of better understanding my results."
   ]
  },
  {
   "cell_type": "code",
   "execution_count": 1,
   "metadata": {
    "collapsed": false,
    "deletable": true,
    "editable": true
   },
   "outputs": [],
   "source": [
    "import numpy as np\n",
    "\n",
    "import datasets\n",
    "from matching import Matches"
   ]
  },
  {
   "cell_type": "code",
   "execution_count": 2,
   "metadata": {
    "collapsed": false,
    "deletable": true,
    "editable": true
   },
   "outputs": [],
   "source": [
    "COSMOS = datasets.COSMOS(\"COSMOS_reference.sqlite\")"
   ]
  },
  {
   "cell_type": "code",
   "execution_count": 3,
   "metadata": {
    "collapsed": false,
    "deletable": true,
    "editable": true
   },
   "outputs": [],
   "source": [
    "HSC = datasets.HSC(\"HSC_COSMOS_median_forced.sqlite3\")"
   ]
  },
  {
   "cell_type": "code",
   "execution_count": 4,
   "metadata": {
    "collapsed": false,
    "deletable": true,
    "editable": true
   },
   "outputs": [
    {
     "data": {
      "text/plain": [
       "(518331, 13)"
      ]
     },
     "execution_count": 4,
     "metadata": {},
     "output_type": "execute_result"
    }
   ],
   "source": [
    "COSMOS.df.shape"
   ]
  },
  {
   "cell_type": "code",
   "execution_count": 5,
   "metadata": {
    "collapsed": false,
    "deletable": true,
    "editable": true
   },
   "outputs": [
    {
     "data": {
      "text/plain": [
       "(928534, 20)"
      ]
     },
     "execution_count": 5,
     "metadata": {},
     "output_type": "execute_result"
    }
   ],
   "source": [
    "HSC.df.shape"
   ]
  },
  {
   "cell_type": "code",
   "execution_count": 6,
   "metadata": {
    "collapsed": false,
    "deletable": true,
    "editable": true
   },
   "outputs": [],
   "source": [
    "matches_df = Matches.load_from_filename(\"data/matches.sqlite3\")"
   ]
  },
  {
   "cell_type": "code",
   "execution_count": 7,
   "metadata": {
    "collapsed": true,
    "deletable": true,
    "editable": true
   },
   "outputs": [],
   "source": [
    "combined = matches_df[matches_df.match].copy()\n",
    "combined[\"ra\"]       = COSMOS.df.loc[combined.index].ra\n",
    "combined[\"dec\"]      = COSMOS.df.loc[combined.index].dec\n",
    "combined[\"photo_z\"]  = COSMOS.df.loc[combined.index].photo_z\n",
    "combined[\"log_mass\"] = COSMOS.df.loc[combined.index].mass_med\n",
    "\n",
    "photometry_cols = [\n",
    "    \"gcmodel_flux\",\"gcmodel_flux_err\",\"gcmodel_flux_flags\",\n",
    "    \"rcmodel_flux\",\"rcmodel_flux_err\",\"rcmodel_flux_flags\",\n",
    "    \"icmodel_flux\",\"icmodel_flux_err\",\"icmodel_flux_flags\",\n",
    "    \"zcmodel_flux\",\"zcmodel_flux_err\",\"zcmodel_flux_flags\",\n",
    "    \"ycmodel_flux\",\"ycmodel_flux_err\",\"ycmodel_flux_flags\",\n",
    "]\n",
    "\n",
    "for col in photometry_cols:\n",
    "    combined[col] = HSC.df.loc[combined.catalog_2_ids][col].values"
   ]
  },
  {
   "cell_type": "code",
   "execution_count": 8,
   "metadata": {
    "collapsed": false,
    "deletable": true,
    "editable": true
   },
   "outputs": [],
   "source": [
    "low_z    = (combined.photo_z  < .15)\n",
    "low_mass = (combined.log_mass < 9)"
   ]
  },
  {
   "cell_type": "markdown",
   "metadata": {
    "deletable": true,
    "editable": true
   },
   "source": [
    "# Create classification labels"
   ]
  },
  {
   "cell_type": "markdown",
   "metadata": {
    "deletable": true,
    "editable": true
   },
   "source": [
    "Class A: matched **and** (low redshift + low mass)\n",
    "\n",
    "Class B: matched **but not** (low redshift + low mass)"
   ]
  },
  {
   "cell_type": "code",
   "execution_count": 9,
   "metadata": {
    "collapsed": true,
    "deletable": true,
    "editable": true
   },
   "outputs": [],
   "source": [
    "class_a =  (low_z & low_mass)\n",
    "class_b = ~(low_z & low_mass)"
   ]
  },
  {
   "cell_type": "code",
   "execution_count": 10,
   "metadata": {
    "collapsed": false,
    "deletable": true,
    "editable": true
   },
   "outputs": [
    {
     "data": {
      "text/html": [
       "<div>\n",
       "<table border=\"1\" class=\"dataframe\">\n",
       "  <thead>\n",
       "    <tr style=\"text-align: right;\">\n",
       "      <th></th>\n",
       "      <th>catalog_2_ids</th>\n",
       "      <th>sep</th>\n",
       "      <th>match</th>\n",
       "      <th>error</th>\n",
       "      <th>ra</th>\n",
       "      <th>dec</th>\n",
       "      <th>photo_z</th>\n",
       "      <th>log_mass</th>\n",
       "      <th>gcmodel_flux</th>\n",
       "      <th>gcmodel_flux_err</th>\n",
       "      <th>...</th>\n",
       "      <th>icmodel_flux</th>\n",
       "      <th>icmodel_flux_err</th>\n",
       "      <th>icmodel_flux_flags</th>\n",
       "      <th>zcmodel_flux</th>\n",
       "      <th>zcmodel_flux_err</th>\n",
       "      <th>zcmodel_flux_flags</th>\n",
       "      <th>ycmodel_flux</th>\n",
       "      <th>ycmodel_flux_err</th>\n",
       "      <th>ycmodel_flux_flags</th>\n",
       "      <th>low_z_low_mass</th>\n",
       "    </tr>\n",
       "    <tr>\n",
       "      <th>catalog_1_ids</th>\n",
       "      <th></th>\n",
       "      <th></th>\n",
       "      <th></th>\n",
       "      <th></th>\n",
       "      <th></th>\n",
       "      <th></th>\n",
       "      <th></th>\n",
       "      <th></th>\n",
       "      <th></th>\n",
       "      <th></th>\n",
       "      <th></th>\n",
       "      <th></th>\n",
       "      <th></th>\n",
       "      <th></th>\n",
       "      <th></th>\n",
       "      <th></th>\n",
       "      <th></th>\n",
       "      <th></th>\n",
       "      <th></th>\n",
       "      <th></th>\n",
       "      <th></th>\n",
       "    </tr>\n",
       "  </thead>\n",
       "  <tbody>\n",
       "    <tr>\n",
       "      <th>218604</th>\n",
       "      <td>43158996781122114</td>\n",
       "      <td>0.114389</td>\n",
       "      <td>True</td>\n",
       "      <td>False</td>\n",
       "      <td>149.749393</td>\n",
       "      <td>1.618068</td>\n",
       "      <td>0.3797</td>\n",
       "      <td>11.07610</td>\n",
       "      <td>7.760156e-29</td>\n",
       "      <td>4.177573e-31</td>\n",
       "      <td>...</td>\n",
       "      <td>6.303301e-28</td>\n",
       "      <td>1.415450e-30</td>\n",
       "      <td>False</td>\n",
       "      <td>8.553727e-28</td>\n",
       "      <td>1.656983e-30</td>\n",
       "      <td>False</td>\n",
       "      <td>1.004911e-27</td>\n",
       "      <td>3.037335e-30</td>\n",
       "      <td>False</td>\n",
       "      <td>False</td>\n",
       "    </tr>\n",
       "    <tr>\n",
       "      <th>219656</th>\n",
       "      <td>43158447025298860</td>\n",
       "      <td>0.471546</td>\n",
       "      <td>True</td>\n",
       "      <td>False</td>\n",
       "      <td>150.388349</td>\n",
       "      <td>1.614538</td>\n",
       "      <td>2.3343</td>\n",
       "      <td>8.99275</td>\n",
       "      <td>5.800470e-31</td>\n",
       "      <td>2.102453e-31</td>\n",
       "      <td>...</td>\n",
       "      <td>2.348454e-30</td>\n",
       "      <td>5.105159e-31</td>\n",
       "      <td>False</td>\n",
       "      <td>1.967417e-30</td>\n",
       "      <td>4.042161e-31</td>\n",
       "      <td>False</td>\n",
       "      <td>4.328439e-31</td>\n",
       "      <td>1.392682e-30</td>\n",
       "      <td>False</td>\n",
       "      <td>False</td>\n",
       "    </tr>\n",
       "    <tr>\n",
       "      <th>219741</th>\n",
       "      <td>43158447025298862</td>\n",
       "      <td>0.202378</td>\n",
       "      <td>True</td>\n",
       "      <td>False</td>\n",
       "      <td>150.402935</td>\n",
       "      <td>1.614631</td>\n",
       "      <td>2.1991</td>\n",
       "      <td>9.71373</td>\n",
       "      <td>8.775548e-31</td>\n",
       "      <td>2.110055e-31</td>\n",
       "      <td>...</td>\n",
       "      <td>1.666095e-30</td>\n",
       "      <td>3.575105e-31</td>\n",
       "      <td>False</td>\n",
       "      <td>1.105359e-30</td>\n",
       "      <td>4.225365e-31</td>\n",
       "      <td>False</td>\n",
       "      <td>2.347631e-30</td>\n",
       "      <td>1.432457e-30</td>\n",
       "      <td>False</td>\n",
       "      <td>False</td>\n",
       "    </tr>\n",
       "    <tr>\n",
       "      <th>219743</th>\n",
       "      <td>43158584464246387</td>\n",
       "      <td>0.207967</td>\n",
       "      <td>True</td>\n",
       "      <td>False</td>\n",
       "      <td>150.295083</td>\n",
       "      <td>1.614662</td>\n",
       "      <td>2.4407</td>\n",
       "      <td>9.77811</td>\n",
       "      <td>1.312252e-30</td>\n",
       "      <td>3.044583e-31</td>\n",
       "      <td>...</td>\n",
       "      <td>3.989077e-30</td>\n",
       "      <td>5.396980e-31</td>\n",
       "      <td>False</td>\n",
       "      <td>4.817932e-30</td>\n",
       "      <td>7.052368e-31</td>\n",
       "      <td>False</td>\n",
       "      <td>3.960493e-30</td>\n",
       "      <td>2.091224e-30</td>\n",
       "      <td>False</td>\n",
       "      <td>False</td>\n",
       "    </tr>\n",
       "    <tr>\n",
       "      <th>219744</th>\n",
       "      <td>43158584464253383</td>\n",
       "      <td>0.295316</td>\n",
       "      <td>True</td>\n",
       "      <td>False</td>\n",
       "      <td>150.239919</td>\n",
       "      <td>1.614675</td>\n",
       "      <td>0.2079</td>\n",
       "      <td>7.04224</td>\n",
       "      <td>8.597155e-31</td>\n",
       "      <td>1.999684e-31</td>\n",
       "      <td>...</td>\n",
       "      <td>1.373718e-30</td>\n",
       "      <td>3.604136e-31</td>\n",
       "      <td>False</td>\n",
       "      <td>2.152825e-30</td>\n",
       "      <td>5.385489e-31</td>\n",
       "      <td>False</td>\n",
       "      <td>6.612980e-31</td>\n",
       "      <td>1.594763e-30</td>\n",
       "      <td>False</td>\n",
       "      <td>False</td>\n",
       "    </tr>\n",
       "  </tbody>\n",
       "</table>\n",
       "<p>5 rows × 24 columns</p>\n",
       "</div>"
      ],
      "text/plain": [
       "                   catalog_2_ids       sep match  error          ra       dec  \\\n",
       "catalog_1_ids                                                                   \n",
       "218604         43158996781122114  0.114389  True  False  149.749393  1.618068   \n",
       "219656         43158447025298860  0.471546  True  False  150.388349  1.614538   \n",
       "219741         43158447025298862  0.202378  True  False  150.402935  1.614631   \n",
       "219743         43158584464246387  0.207967  True  False  150.295083  1.614662   \n",
       "219744         43158584464253383  0.295316  True  False  150.239919  1.614675   \n",
       "\n",
       "               photo_z  log_mass  gcmodel_flux  gcmodel_flux_err  \\\n",
       "catalog_1_ids                                                      \n",
       "218604          0.3797  11.07610  7.760156e-29      4.177573e-31   \n",
       "219656          2.3343   8.99275  5.800470e-31      2.102453e-31   \n",
       "219741          2.1991   9.71373  8.775548e-31      2.110055e-31   \n",
       "219743          2.4407   9.77811  1.312252e-30      3.044583e-31   \n",
       "219744          0.2079   7.04224  8.597155e-31      1.999684e-31   \n",
       "\n",
       "                   ...        icmodel_flux  icmodel_flux_err  \\\n",
       "catalog_1_ids      ...                                         \n",
       "218604             ...        6.303301e-28      1.415450e-30   \n",
       "219656             ...        2.348454e-30      5.105159e-31   \n",
       "219741             ...        1.666095e-30      3.575105e-31   \n",
       "219743             ...        3.989077e-30      5.396980e-31   \n",
       "219744             ...        1.373718e-30      3.604136e-31   \n",
       "\n",
       "               icmodel_flux_flags  zcmodel_flux  zcmodel_flux_err  \\\n",
       "catalog_1_ids                                                       \n",
       "218604                      False  8.553727e-28      1.656983e-30   \n",
       "219656                      False  1.967417e-30      4.042161e-31   \n",
       "219741                      False  1.105359e-30      4.225365e-31   \n",
       "219743                      False  4.817932e-30      7.052368e-31   \n",
       "219744                      False  2.152825e-30      5.385489e-31   \n",
       "\n",
       "               zcmodel_flux_flags  ycmodel_flux  ycmodel_flux_err  \\\n",
       "catalog_1_ids                                                       \n",
       "218604                      False  1.004911e-27      3.037335e-30   \n",
       "219656                      False  4.328439e-31      1.392682e-30   \n",
       "219741                      False  2.347631e-30      1.432457e-30   \n",
       "219743                      False  3.960493e-30      2.091224e-30   \n",
       "219744                      False  6.612980e-31      1.594763e-30   \n",
       "\n",
       "               ycmodel_flux_flags low_z_low_mass  \n",
       "catalog_1_ids                                     \n",
       "218604                      False          False  \n",
       "219656                      False          False  \n",
       "219741                      False          False  \n",
       "219743                      False          False  \n",
       "219744                      False          False  \n",
       "\n",
       "[5 rows x 24 columns]"
      ]
     },
     "execution_count": 10,
     "metadata": {},
     "output_type": "execute_result"
    }
   ],
   "source": [
    "combined[\"low_z_low_mass\"] = class_a\n",
    "combined.head()"
   ]
  },
  {
   "cell_type": "markdown",
   "metadata": {
    "deletable": true,
    "editable": true
   },
   "source": [
    "## Turn fluxes into rough colors\n",
    "Yes, I know these aren't exactly the right colors since I'm not including zero-points, but that shouldn't affect the results.\n",
    "\n",
    "(When I get a chance, I'll re-download the dataset so that it includes magnitudes not just fluxes)"
   ]
  },
  {
   "cell_type": "code",
   "execution_count": 11,
   "metadata": {
    "collapsed": false,
    "deletable": true,
    "editable": true
   },
   "outputs": [
    {
     "name": "stderr",
     "output_type": "stream",
     "text": [
      "/Users/egentry/anaconda3/lib/python3.5/site-packages/ipykernel/__main__.py:1: RuntimeWarning: divide by zero encountered in log10\n",
      "  if __name__ == '__main__':\n",
      "/Users/egentry/anaconda3/lib/python3.5/site-packages/ipykernel/__main__.py:1: RuntimeWarning: invalid value encountered in log10\n",
      "  if __name__ == '__main__':\n",
      "/Users/egentry/anaconda3/lib/python3.5/site-packages/ipykernel/__main__.py:2: RuntimeWarning: divide by zero encountered in log10\n",
      "  from ipykernel import kernelapp as app\n",
      "/Users/egentry/anaconda3/lib/python3.5/site-packages/ipykernel/__main__.py:2: RuntimeWarning: invalid value encountered in log10\n",
      "  from ipykernel import kernelapp as app\n",
      "/Users/egentry/anaconda3/lib/python3.5/site-packages/ipykernel/__main__.py:3: RuntimeWarning: divide by zero encountered in log10\n",
      "  app.launch_new_instance()\n",
      "/Users/egentry/anaconda3/lib/python3.5/site-packages/ipykernel/__main__.py:3: RuntimeWarning: invalid value encountered in log10\n",
      "  app.launch_new_instance()\n",
      "/Users/egentry/anaconda3/lib/python3.5/site-packages/ipykernel/__main__.py:4: RuntimeWarning: divide by zero encountered in log10\n",
      "/Users/egentry/anaconda3/lib/python3.5/site-packages/ipykernel/__main__.py:4: RuntimeWarning: invalid value encountered in log10\n"
     ]
    }
   ],
   "source": [
    "combined[\"g_minus_r\"] = -.4*np.log10(combined[\"gcmodel_flux\"] / combined[\"rcmodel_flux\"])\n",
    "combined[\"r_minus_i\"] = -.4*np.log10(combined[\"rcmodel_flux\"] / combined[\"icmodel_flux\"])\n",
    "combined[\"i_minus_z\"] = -.4*np.log10(combined[\"icmodel_flux\"] / combined[\"zcmodel_flux\"])\n",
    "combined[\"z_minus_y\"] = -.4*np.log10(combined[\"zcmodel_flux\"] / combined[\"ycmodel_flux\"])"
   ]
  },
  {
   "cell_type": "markdown",
   "metadata": {
    "deletable": true,
    "editable": true
   },
   "source": [
    "For now, filter out bad photometry. Later I could consider passing this into the classifier, as an imputed/sentinel value"
   ]
  },
  {
   "cell_type": "code",
   "execution_count": 12,
   "metadata": {
    "collapsed": true,
    "deletable": true,
    "editable": true
   },
   "outputs": [],
   "source": [
    "mask =    np.isfinite(combined[\"g_minus_r\"]) & np.isfinite(combined[\"r_minus_i\"]) \\\n",
    "        & np.isfinite(combined[\"i_minus_z\"]) & np.isfinite(combined[\"z_minus_y\"]) \\\n",
    "        & np.isfinite(combined[\"icmodel_flux\"]) \\\n",
    "        & (~combined.gcmodel_flux_flags) & (~combined.rcmodel_flux_flags) \\\n",
    "        & (~combined.icmodel_flux_flags) & (~combined.zcmodel_flux_flags) \\\n",
    "        & (~combined.ycmodel_flux_flags)\n",
    "\n",
    "combined = combined[mask]\n",
    "\n",
    "combined[\"log_icmodel_flux\"] = np.log10(combined[\"icmodel_flux\"])"
   ]
  },
  {
   "cell_type": "code",
   "execution_count": 13,
   "metadata": {
    "collapsed": false,
    "deletable": true,
    "editable": true
   },
   "outputs": [
    {
     "data": {
      "text/plain": [
       "(332712, 29)"
      ]
     },
     "execution_count": 13,
     "metadata": {},
     "output_type": "execute_result"
    }
   ],
   "source": [
    "combined.shape"
   ]
  },
  {
   "cell_type": "code",
   "execution_count": 14,
   "metadata": {
    "collapsed": false,
    "deletable": true,
    "editable": true
   },
   "outputs": [],
   "source": [
    "features = combined.loc[:,[\"g_minus_r\", \"r_minus_i\", \"i_minus_z\", \"z_minus_y\",\n",
    "                              \"log_icmodel_flux\"]]\n",
    "\n",
    "target = combined.loc[:,[\"low_z_low_mass\"]]"
   ]
  },
  {
   "cell_type": "code",
   "execution_count": 15,
   "metadata": {
    "collapsed": false,
    "deletable": true,
    "editable": true
   },
   "outputs": [
    {
     "data": {
      "text/plain": [
       "low_z_low_mass    0.022124\n",
       "dtype: float64"
      ]
     },
     "execution_count": 15,
     "metadata": {},
     "output_type": "execute_result"
    }
   ],
   "source": [
    "target.mean()"
   ]
  },
  {
   "cell_type": "markdown",
   "metadata": {
    "deletable": true,
    "editable": true
   },
   "source": [
    "# Build Classifiers"
   ]
  },
  {
   "cell_type": "markdown",
   "metadata": {
    "deletable": true,
    "editable": true
   },
   "source": [
    "## Partition training and testing sets"
   ]
  },
  {
   "cell_type": "code",
   "execution_count": 16,
   "metadata": {
    "collapsed": false,
    "deletable": true,
    "editable": true
   },
   "outputs": [],
   "source": [
    "testing_fraction = .1\n",
    "test_set_indices = np.random.choice(target.index.values, \n",
    "                                    replace=False,\n",
    "                                    size=int(testing_fraction*target.size)\n",
    "                                   )\n",
    "\n",
    "training_set_indices = np.array(list(set(target.index.values) - set(test_set_indices)))\n",
    "\n",
    "features_train = features.loc[training_set_indices]\n",
    "features_test  = features.loc[test_set_indices]\n",
    "\n",
    "target_train   = target.loc[training_set_indices]\n",
    "target_test    = target.loc[test_set_indices]\n",
    "\n",
    "true_a =  target_test.values.flatten()\n",
    "true_b = ~target_test.values.flatten()"
   ]
  },
  {
   "cell_type": "code",
   "execution_count": 17,
   "metadata": {
    "collapsed": true,
    "deletable": true,
    "editable": true
   },
   "outputs": [],
   "source": [
    "def get_classification_characteristics(target_prob, threshold_prob, verbose=False):\n",
    "\n",
    "    target_prediction = (target_prob > threshold_prob)\n",
    "    \n",
    "    prediction_a =  target_prediction\n",
    "    prediction_b = ~target_prediction\n",
    "    \n",
    "    completeness = (true_a & prediction_a).sum() / (true_a).sum() \n",
    "    \n",
    "    purity = (true_a & prediction_a).sum() / (prediction_a).sum() \n",
    "    \n",
    "    sample_size_reduction = prediction_a.size / prediction_a.sum()\n",
    "    \n",
    "    true_positives  = np.sum(true_a & prediction_a)\n",
    "    false_positives = np.sum(true_b & prediction_a)\n",
    "    \n",
    "    true_negatives  = np.sum(true_b & prediction_b)\n",
    "    false_negatives = np.sum(true_a & prediction_b)\n",
    "    \n",
    "    true_positive_rate = true_positives / true_a.sum()\n",
    "    false_positive_rate = false_positives / true_b.sum()\n",
    "    \n",
    "    if verbose:\n",
    "        print(\"completeness:          \", completeness)\n",
    "        print(\"purity:                \", purity)\n",
    "        print(\"sample_size_reduction: \", sample_size_reduction)\n",
    "        print(\"true  positive rate:   \", true_positive_rate)\n",
    "        print(\"false positive rate:   \", false_positive_rate)\n",
    "        \n",
    "    return {\n",
    "        \"completeness\": completeness,\n",
    "        \"purity\": purity,\n",
    "        \"sample_size_reduction\": sample_size_reduction,\n",
    "        \"threshold_prob\": threshold_prob,\n",
    "        \"true_positive_rate\": true_positive_rate,\n",
    "        \"false_positive_rate\": false_positive_rate,\n",
    "           }"
   ]
  },
  {
   "cell_type": "markdown",
   "metadata": {
    "deletable": true,
    "editable": true
   },
   "source": [
    "## Random Forest"
   ]
  },
  {
   "cell_type": "code",
   "execution_count": 18,
   "metadata": {
    "collapsed": false,
    "deletable": true,
    "editable": true
   },
   "outputs": [
    {
     "name": "stdout",
     "output_type": "stream",
     "text": [
      "min prob:  0.0\n",
      "max prob:  1.0\n"
     ]
    }
   ],
   "source": [
    "from sklearn.ensemble import RandomForestClassifier\n",
    "\n",
    "classifier_RF = RandomForestClassifier()\n",
    "classifier_RF = classifier_RF.fit(features_train, target_train.values.flatten())\n",
    "\n",
    "target_prob_RF = classifier_RF.predict_proba(features_test)[:,1]\n",
    "print(\"min prob: \", target_prob_RF.min())\n",
    "print(\"max prob: \", target_prob_RF.max())\n"
   ]
  },
  {
   "cell_type": "code",
   "execution_count": 19,
   "metadata": {
    "collapsed": false,
    "deletable": true,
    "editable": true,
    "scrolled": true
   },
   "outputs": [
    {
     "name": "stdout",
     "output_type": "stream",
     "text": [
      "completeness:           0.444134078212\n",
      "purity:                 0.0570301291248\n",
      "sample_size_reduction:  5.96682209469\n",
      "true  positive rate:    0.444134078212\n",
      "false positive rate:    0.161511288589\n"
     ]
    },
    {
     "data": {
      "text/plain": [
       "{'completeness': 0.44413407821229051,\n",
       " 'false_positive_rate': 0.16151128858854247,\n",
       " 'purity': 0.05703012912482066,\n",
       " 'sample_size_reduction': 5.9668220946915351,\n",
       " 'threshold_prob': 0.01,\n",
       " 'true_positive_rate': 0.44413407821229051}"
      ]
     },
     "execution_count": 19,
     "metadata": {},
     "output_type": "execute_result"
    }
   ],
   "source": [
    "get_classification_characteristics(target_prob_RF, .01, verbose=True)"
   ]
  },
  {
   "cell_type": "code",
   "execution_count": null,
   "metadata": {
    "collapsed": true,
    "deletable": true,
    "editable": true
   },
   "outputs": [],
   "source": []
  },
  {
   "cell_type": "code",
   "execution_count": 20,
   "metadata": {
    "collapsed": false,
    "deletable": true,
    "editable": true
   },
   "outputs": [],
   "source": [
    "threshold_probs = np.linspace(0, 1, num=100)[1:-1]\n",
    "results_RF = [get_classification_characteristics(target_prob_RF, threshold_prob)\n",
    "              for threshold_prob in threshold_probs]"
   ]
  },
  {
   "cell_type": "code",
   "execution_count": 21,
   "metadata": {
    "collapsed": true,
    "deletable": true,
    "editable": true
   },
   "outputs": [],
   "source": [
    "completenesses_RF         = [result[\"completeness\"] for result in results_RF]\n",
    "purities_RF               = [result[\"purity\"] for result in results_RF]\n",
    "sample_size_reductions_RF = [result[\"sample_size_reduction\"] for result in results_RF]\n",
    "true_positive_rates_RF    = [result[\"true_positive_rate\"] for result in results_RF]\n",
    "false_positive_rates_RF   = [result[\"false_positive_rate\"] for result in results_RF]"
   ]
  },
  {
   "cell_type": "markdown",
   "metadata": {
    "deletable": true,
    "editable": true
   },
   "source": [
    "## Logistic Regression"
   ]
  },
  {
   "cell_type": "code",
   "execution_count": 22,
   "metadata": {
    "collapsed": false,
    "deletable": true,
    "editable": true
   },
   "outputs": [
    {
     "name": "stdout",
     "output_type": "stream",
     "text": [
      "min prob:  4.54654787459e-05\n",
      "max prob:  0.999505817399\n"
     ]
    }
   ],
   "source": [
    "from sklearn.linear_model import LogisticRegression\n",
    "classifier_LR = LogisticRegression(class_weight=\"balanced\")\n",
    "classifier_LR = classifier_LR.fit(features_train, np.array(target_train.values.flatten(), dtype=int))\n",
    "\n",
    "target_prob_LR = classifier_LR.predict_proba(features_test)[:,1]\n",
    "print(\"min prob: \", target_prob_LR.min())\n",
    "print(\"max prob: \", target_prob_LR.max())"
   ]
  },
  {
   "cell_type": "code",
   "execution_count": 23,
   "metadata": {
    "collapsed": false,
    "deletable": true,
    "editable": true,
    "scrolled": true
   },
   "outputs": [
    {
     "name": "stdout",
     "output_type": "stream",
     "text": [
      "completeness:           0.998603351955\n",
      "purity:                 0.0215063466282\n",
      "sample_size_reduction:  1.00075197016\n",
      "true  positive rate:    0.998603351955\n",
      "false positive rate:    0.999262786054\n"
     ]
    },
    {
     "data": {
      "text/plain": [
       "{'completeness': 0.99860335195530725,\n",
       " 'false_positive_rate': 0.99926278605436958,\n",
       " 'purity': 0.021506346628165793,\n",
       " 'sample_size_reduction': 1.0007519701618239,\n",
       " 'threshold_prob': 0.01,\n",
       " 'true_positive_rate': 0.99860335195530725}"
      ]
     },
     "execution_count": 23,
     "metadata": {},
     "output_type": "execute_result"
    }
   ],
   "source": [
    "get_classification_characteristics(target_prob_LR, .01, verbose=True)"
   ]
  },
  {
   "cell_type": "code",
   "execution_count": null,
   "metadata": {
    "collapsed": true,
    "deletable": true,
    "editable": true
   },
   "outputs": [],
   "source": []
  },
  {
   "cell_type": "code",
   "execution_count": 24,
   "metadata": {
    "collapsed": false,
    "deletable": true,
    "editable": true
   },
   "outputs": [],
   "source": [
    "threshold_probs = np.linspace(0, 1)[1:-1]\n",
    "results_LR = [get_classification_characteristics(target_prob_LR, threshold_prob)\n",
    "              for threshold_prob in threshold_probs]"
   ]
  },
  {
   "cell_type": "code",
   "execution_count": 25,
   "metadata": {
    "collapsed": true,
    "deletable": true,
    "editable": true
   },
   "outputs": [],
   "source": [
    "completenesses_LR         = [result[\"completeness\"] for result in results_LR]\n",
    "purities_LR               = [result[\"purity\"] for result in results_LR]\n",
    "sample_size_reductions_LR = [result[\"sample_size_reduction\"] for result in results_LR]\n",
    "true_positive_rates_LR    = [result[\"true_positive_rate\"] for result in results_LR]\n",
    "false_positive_rates_LR   = [result[\"false_positive_rate\"] for result in results_LR]"
   ]
  },
  {
   "cell_type": "markdown",
   "metadata": {
    "collapsed": true,
    "deletable": true,
    "editable": true
   },
   "source": [
    "\n",
    "# Get specific galaxies"
   ]
  },
  {
   "cell_type": "code",
   "execution_count": 26,
   "metadata": {
    "collapsed": false,
    "deletable": true,
    "editable": true
   },
   "outputs": [],
   "source": [
    "best_dwarfs_args  = np.argpartition(target_prob_RF, target_prob_RF.size-100)[-100:]\n",
    "worst_dwarfs_args = np.argpartition(target_prob_RF, 100)[:100]\n",
    "\n",
    "best_dwarfs_ids_cosmos  = target_test.iloc[best_dwarfs_args].index\n",
    "worst_dwarfs_ids_cosmos = target_test.iloc[worst_dwarfs_args].index\n",
    "\n",
    "best_dwarf_ids_hsc = combined.loc[best_dwarfs_ids_cosmos].catalog_2_ids\n",
    "worst_dwarf_ids_hsc = combined.loc[worst_dwarfs_ids_cosmos].catalog_2_ids"
   ]
  },
  {
   "cell_type": "code",
   "execution_count": 27,
   "metadata": {
    "collapsed": false,
    "deletable": true,
    "editable": true
   },
   "outputs": [],
   "source": [
    "random_ids_cosmos = np.random.choice(training_set_indices,\n",
    "                              replace=False,\n",
    "                              size=100,\n",
    "                             )\n",
    "\n",
    "random_ids_hsc = combined.loc[random_ids_cosmos].catalog_2_ids"
   ]
  },
  {
   "cell_type": "markdown",
   "metadata": {
    "deletable": true,
    "editable": true
   },
   "source": [
    "## Check: do any HSC ids overlap?\n",
    "By design the COSMOS ids shouldn't overlap, but the COSMOS id -> HSC id mapping isn't necessarily unique."
   ]
  },
  {
   "cell_type": "code",
   "execution_count": 28,
   "metadata": {
    "collapsed": false,
    "deletable": true,
    "editable": true
   },
   "outputs": [
    {
     "data": {
      "text/plain": [
       "set()"
      ]
     },
     "execution_count": 28,
     "metadata": {},
     "output_type": "execute_result"
    }
   ],
   "source": [
    "set(best_dwarf_ids_hsc.values) & set(worst_dwarf_ids_hsc.values)"
   ]
  },
  {
   "cell_type": "code",
   "execution_count": 29,
   "metadata": {
    "collapsed": false,
    "deletable": true,
    "editable": true
   },
   "outputs": [
    {
     "data": {
      "text/plain": [
       "set()"
      ]
     },
     "execution_count": 29,
     "metadata": {},
     "output_type": "execute_result"
    }
   ],
   "source": [
    "set(best_dwarf_ids_hsc.values) & set(random_ids_hsc.values)"
   ]
  },
  {
   "cell_type": "code",
   "execution_count": 30,
   "metadata": {
    "collapsed": false,
    "deletable": true,
    "editable": true
   },
   "outputs": [
    {
     "data": {
      "text/plain": [
       "set()"
      ]
     },
     "execution_count": 30,
     "metadata": {},
     "output_type": "execute_result"
    }
   ],
   "source": [
    "set(worst_dwarf_ids_hsc.values) & set(random_ids_hsc.values)"
   ]
  },
  {
   "cell_type": "markdown",
   "metadata": {
    "deletable": true,
    "editable": true
   },
   "source": [
    "### Do they give reasonable dwarf fractions?"
   ]
  },
  {
   "cell_type": "code",
   "execution_count": 31,
   "metadata": {
    "collapsed": false,
    "deletable": true,
    "editable": true
   },
   "outputs": [
    {
     "data": {
      "text/plain": [
       "0.62"
      ]
     },
     "execution_count": 31,
     "metadata": {},
     "output_type": "execute_result"
    }
   ],
   "source": [
    "combined.loc[best_dwarfs_ids_cosmos].low_z_low_mass.mean()"
   ]
  },
  {
   "cell_type": "code",
   "execution_count": 32,
   "metadata": {
    "collapsed": false,
    "deletable": true,
    "editable": true
   },
   "outputs": [
    {
     "data": {
      "text/plain": [
       "0.02"
      ]
     },
     "execution_count": 32,
     "metadata": {},
     "output_type": "execute_result"
    }
   ],
   "source": [
    "combined.loc[worst_dwarfs_ids_cosmos].low_z_low_mass.mean()"
   ]
  },
  {
   "cell_type": "code",
   "execution_count": 33,
   "metadata": {
    "collapsed": false,
    "deletable": true,
    "editable": true
   },
   "outputs": [
    {
     "data": {
      "text/plain": [
       "0.029999999999999999"
      ]
     },
     "execution_count": 33,
     "metadata": {},
     "output_type": "execute_result"
    }
   ],
   "source": [
    "combined.loc[random_ids_cosmos].low_z_low_mass.mean()"
   ]
  },
  {
   "cell_type": "markdown",
   "metadata": {
    "deletable": true,
    "editable": true
   },
   "source": [
    "### Save the indices to disk"
   ]
  },
  {
   "cell_type": "code",
   "execution_count": 34,
   "metadata": {
    "collapsed": false,
    "deletable": true,
    "editable": true
   },
   "outputs": [],
   "source": [
    "np.savetxt(\"quick_sample/ids_best.csv\",   best_dwarf_ids_hsc.values,  fmt=\"%d\")\n",
    "np.savetxt(\"quick_sample/ids_worst.csv\",  worst_dwarf_ids_hsc.values, fmt=\"%d\")\n",
    "np.savetxt(\"quick_sample/ids_random.csv\", random_ids_hsc.values,      fmt=\"%d\")"
   ]
  },
  {
   "cell_type": "markdown",
   "metadata": {
    "deletable": true,
    "editable": true
   },
   "source": [
    "# What image size do I need?\n",
    "\n",
    "For this, you'll need to use `data.get_shapes.ipynb` to query + store the object shapes from the remote database."
   ]
  },
  {
   "cell_type": "markdown",
   "metadata": {
    "deletable": true,
    "editable": true
   },
   "source": [
    "# Build a list to send to Song"
   ]
  },
  {
   "cell_type": "code",
   "execution_count": 35,
   "metadata": {
    "collapsed": true,
    "deletable": true,
    "editable": true
   },
   "outputs": [],
   "source": [
    "ids_best   = np.loadtxt(\"quick_sample/ids_best.csv\",   dtype=int)\n",
    "ids_worst  = np.loadtxt(\"quick_sample/ids_worst.csv\",  dtype=int)\n",
    "ids_random = np.loadtxt(\"quick_sample/ids_random.csv\", dtype=int)"
   ]
  },
  {
   "cell_type": "markdown",
   "metadata": {
    "deletable": true,
    "editable": true
   },
   "source": [
    "## Check if any HSC ids are duplicated"
   ]
  },
  {
   "cell_type": "code",
   "execution_count": 36,
   "metadata": {
    "collapsed": false,
    "deletable": true,
    "editable": true
   },
   "outputs": [],
   "source": [
    "assert( len(set(best_dwarf_ids_hsc)) == 100 )"
   ]
  },
  {
   "cell_type": "code",
   "execution_count": 37,
   "metadata": {
    "collapsed": false,
    "deletable": true,
    "editable": true
   },
   "outputs": [],
   "source": [
    "assert( len(set(worst_dwarf_ids_hsc)) == 100 )"
   ]
  },
  {
   "cell_type": "code",
   "execution_count": 38,
   "metadata": {
    "collapsed": false,
    "deletable": true,
    "editable": true
   },
   "outputs": [],
   "source": [
    "assert( len(set(random_ids_hsc)) == 100 )"
   ]
  },
  {
   "cell_type": "markdown",
   "metadata": {
    "deletable": true,
    "editable": true
   },
   "source": [
    "### But are multiple cosmos galaxies matched to any of those HSC id's?\n",
    "This will be a problem because there will be two masses / redshifts attached to a given HSC example."
   ]
  },
  {
   "cell_type": "code",
   "execution_count": 39,
   "metadata": {
    "collapsed": false,
    "deletable": true,
    "editable": true
   },
   "outputs": [
    {
     "data": {
      "text/plain": [
       "(100, 29)"
      ]
     },
     "execution_count": 39,
     "metadata": {},
     "output_type": "execute_result"
    }
   ],
   "source": [
    "df_best = combined[combined.catalog_2_ids.isin(best_dwarf_ids_hsc)]\n",
    "df_best.shape"
   ]
  },
  {
   "cell_type": "code",
   "execution_count": 40,
   "metadata": {
    "collapsed": false,
    "deletable": true,
    "editable": true
   },
   "outputs": [
    {
     "data": {
      "text/plain": [
       "(100, 29)"
      ]
     },
     "execution_count": 40,
     "metadata": {},
     "output_type": "execute_result"
    }
   ],
   "source": [
    "df_worst = combined[combined.catalog_2_ids.isin(worst_dwarf_ids_hsc)]\n",
    "df_worst.shape"
   ]
  },
  {
   "cell_type": "code",
   "execution_count": 41,
   "metadata": {
    "collapsed": false,
    "deletable": true,
    "editable": true
   },
   "outputs": [
    {
     "data": {
      "text/plain": [
       "(100, 29)"
      ]
     },
     "execution_count": 41,
     "metadata": {},
     "output_type": "execute_result"
    }
   ],
   "source": [
    "df_random = combined[combined.catalog_2_ids.isin(random_ids_hsc)]\n",
    "df_random.shape"
   ]
  },
  {
   "cell_type": "markdown",
   "metadata": {
    "deletable": true,
    "editable": true
   },
   "source": [
    "# Disambiguate matches\n",
    "Simply select the closest of the COSMOS galaxies, and discard all others"
   ]
  },
  {
   "cell_type": "code",
   "execution_count": 42,
   "metadata": {
    "collapsed": false,
    "deletable": true,
    "editable": true
   },
   "outputs": [],
   "source": [
    "from collections import Counter\n",
    "\n",
    "def copy_and_filter_duplicates(df_old, verbose=False):\n",
    "    df = df_old.copy()\n",
    "    counts = Counter(df.catalog_2_ids)\n",
    "    \n",
    "    ambiguous_galaxy_hsc_ids = []\n",
    "    for hsc_id in counts:\n",
    "        if counts[hsc_id] > 1:\n",
    "            ambiguous_galaxy_hsc_ids.append(hsc_id)\n",
    "            if verbose:\n",
    "                print(hsc_id, counts[hsc_id])\n",
    "            \n",
    "            ambiguous_matches = df[df.catalog_2_ids == hsc_id]\n",
    "            better_match_cosmos_id = ambiguous_matches.sep.argmin()\n",
    "            worse_match_ids = set(ambiguous_matches.index) - set([better_match_cosmos_id])\n",
    "            \n",
    "            for worse_match_id in worse_match_ids:\n",
    "                df = df[df.index != worse_match_id ]\n",
    "        \n",
    "    return df   "
   ]
  },
  {
   "cell_type": "code",
   "execution_count": 43,
   "metadata": {
    "collapsed": false,
    "deletable": true,
    "editable": true
   },
   "outputs": [],
   "source": [
    "df_best = copy_and_filter_duplicates(df_best, verbose=True)"
   ]
  },
  {
   "cell_type": "code",
   "execution_count": 44,
   "metadata": {
    "collapsed": false,
    "deletable": true,
    "editable": true
   },
   "outputs": [],
   "source": [
    "df_worst = copy_and_filter_duplicates(df_worst, verbose=True)"
   ]
  },
  {
   "cell_type": "code",
   "execution_count": 45,
   "metadata": {
    "collapsed": true,
    "deletable": true,
    "editable": true
   },
   "outputs": [],
   "source": [
    "df_random = copy_and_filter_duplicates(df_random, verbose=True)"
   ]
  },
  {
   "cell_type": "markdown",
   "metadata": {
    "deletable": true,
    "editable": true
   },
   "source": [
    "## Create a csv file for Song"
   ]
  },
  {
   "cell_type": "code",
   "execution_count": 46,
   "metadata": {
    "collapsed": false,
    "deletable": true,
    "editable": true
   },
   "outputs": [],
   "source": [
    "with open(\"data/galaxies_for_song.csv\", mode=\"w\") as f:\n",
    "    f.write(\"# object_id,ra,dec,z\\n\")\n",
    "    \n",
    "    kwargs = dict(\n",
    "        header=None,\n",
    "        index=False,\n",
    "        float_format=\"%lf\",\n",
    "    )\n",
    "    \n",
    "    columns = [\"catalog_2_ids\", \"ra\", \"dec\", \"photo_z\"]\n",
    "        \n",
    "    df_best[columns].to_csv(f, **kwargs)\n",
    "    \n",
    "    df_worst[columns].to_csv(f, **kwargs)\n",
    "    \n",
    "    df_worst[columns].to_csv(f, **kwargs)\n"
   ]
  },
  {
   "cell_type": "code",
   "execution_count": 47,
   "metadata": {
    "collapsed": false,
    "deletable": true,
    "editable": true
   },
   "outputs": [
    {
     "name": "stdout",
     "output_type": "stream",
     "text": [
      "# object_id,ra,dec,z\r\n",
      "43158447025292832,150.404404,1.624559,0.070100\r\n",
      "43158447025314177,150.363379,1.644248,0.181100\r\n",
      "43158721903223995,149.995748,1.669957,0.097300\r\n",
      "43158859342178879,149.931247,1.729403,0.150000\r\n",
      "43158447025318498,150.459376,1.741018,0.085000\r\n",
      "43158447025318544,150.432815,1.742775,0.007800\r\n",
      "43158996781127776,149.724603,1.747211,0.065200\r\n",
      "43158447025319231,150.396595,1.756353,0.220000\r\n",
      "43158447025297655,150.415714,1.759544,0.190000\r\n"
     ]
    }
   ],
   "source": [
    "!head data/galaxies_for_song.csv"
   ]
  },
  {
   "cell_type": "code",
   "execution_count": null,
   "metadata": {
    "collapsed": true,
    "deletable": true,
    "editable": true
   },
   "outputs": [],
   "source": []
  },
  {
   "cell_type": "markdown",
   "metadata": {
    "deletable": true,
    "editable": true
   },
   "source": [
    "# Look into the duplicates (WIP)"
   ]
  },
  {
   "cell_type": "code",
   "execution_count": 48,
   "metadata": {
    "collapsed": false,
    "deletable": true,
    "editable": true
   },
   "outputs": [
    {
     "ename": "AssertionError",
     "evalue": "",
     "output_type": "error",
     "traceback": [
      "\u001b[0;31m---------------------------------------------------------------------------\u001b[0m",
      "\u001b[0;31mAssertionError\u001b[0m                            Traceback (most recent call last)",
      "\u001b[0;32m<ipython-input-48-d0fbd36344b5>\u001b[0m in \u001b[0;36m<module>\u001b[0;34m()\u001b[0m\n\u001b[1;32m      1\u001b[0m \u001b[0;31m# stop \"Run All\" from going below here\u001b[0m\u001b[0;34m\u001b[0m\u001b[0;34m\u001b[0m\u001b[0m\n\u001b[0;32m----> 2\u001b[0;31m \u001b[0;32massert\u001b[0m\u001b[0;34m(\u001b[0m\u001b[0;32mFalse\u001b[0m\u001b[0;34m)\u001b[0m\u001b[0;34m\u001b[0m\u001b[0m\n\u001b[0m",
      "\u001b[0;31mAssertionError\u001b[0m: "
     ]
    }
   ],
   "source": [
    "# stop \"Run All\" from going below here\n",
    "assert(False)"
   ]
  },
  {
   "cell_type": "code",
   "execution_count": null,
   "metadata": {
    "collapsed": false,
    "deletable": true,
    "editable": true
   },
   "outputs": [],
   "source": [
    "combined[combined.catalog_2_ids == ambiguous_galaxy_hsc_ids[0]]"
   ]
  },
  {
   "cell_type": "code",
   "execution_count": null,
   "metadata": {
    "collapsed": false,
    "deletable": true,
    "editable": true
   },
   "outputs": [],
   "source": [
    "combined[combined.catalog_2_ids == ambiguous_galaxy_hsc_ids[1]]"
   ]
  },
  {
   "cell_type": "code",
   "execution_count": null,
   "metadata": {
    "collapsed": false,
    "deletable": true,
    "editable": true
   },
   "outputs": [],
   "source": [
    "COSMOS.df.loc[[801103, 801106]]"
   ]
  },
  {
   "cell_type": "code",
   "execution_count": null,
   "metadata": {
    "collapsed": true,
    "deletable": true,
    "editable": true
   },
   "outputs": [],
   "source": []
  },
  {
   "cell_type": "code",
   "execution_count": null,
   "metadata": {
    "collapsed": true,
    "deletable": true,
    "editable": true
   },
   "outputs": [],
   "source": []
  },
  {
   "cell_type": "code",
   "execution_count": null,
   "metadata": {
    "collapsed": true,
    "deletable": true,
    "editable": true
   },
   "outputs": [],
   "source": []
  },
  {
   "cell_type": "code",
   "execution_count": null,
   "metadata": {
    "collapsed": true,
    "deletable": true,
    "editable": true
   },
   "outputs": [],
   "source": []
  },
  {
   "cell_type": "markdown",
   "metadata": {
    "deletable": true,
    "editable": true
   },
   "source": [
    "# Old material?"
   ]
  },
  {
   "cell_type": "code",
   "execution_count": null,
   "metadata": {
    "collapsed": false,
    "deletable": true,
    "editable": true
   },
   "outputs": [],
   "source": [
    "# stop \"Run All\" from going below here\n",
    "assert(False)"
   ]
  },
  {
   "cell_type": "code",
   "execution_count": null,
   "metadata": {
    "collapsed": true,
    "deletable": true,
    "editable": true
   },
   "outputs": [],
   "source": [
    "combined_tmp = matches.catalog_2.df[matches.mask_catalog_2].iloc[matches.idx[matches.mask_match]]"
   ]
  },
  {
   "cell_type": "code",
   "execution_count": null,
   "metadata": {
    "collapsed": true,
    "deletable": true,
    "editable": true
   },
   "outputs": [],
   "source": [
    "ids_best   = np.loadtxt(\"quick_sample/ids_best.csv\",   dtype=int)\n",
    "ids_worst  = np.loadtxt(\"quick_sample/ids_worst.csv\",  dtype=int)\n",
    "ids_random = np.loadtxt(\"quick_sample/ids_random.csv\", dtype=int)\n",
    "\n",
    "\n"
   ]
  },
  {
   "cell_type": "code",
   "execution_count": null,
   "metadata": {
    "collapsed": true,
    "deletable": true,
    "editable": true
   },
   "outputs": [],
   "source": []
  },
  {
   "cell_type": "code",
   "execution_count": null,
   "metadata": {
    "collapsed": true,
    "deletable": true,
    "editable": true
   },
   "outputs": [],
   "source": [
    "for i, photo_z in enumerate(matches.catalog_1.df[matches.mask_catalog_1].photo_z):\n",
    "    if not matches.mask_match[i]:\n",
    "        continue\n",
    "    hsc_id = matches.catalog_2.df[matches.mask_catalog_2].index[matches.idx[i]]\n",
    "#     if hsc_id not in combined_tmp.index:\n",
    "#         print(\"bad id: \", hsc_id)\n",
    "#         break\n",
    "    combined_tmp.loc[hsc_id, \"photo_z\"] = photo_z\n",
    "#     print(hsc_id, photo_z)\n",
    "    \n",
    "#     break\n",
    "# combined[\"photo_z\"] = "
   ]
  },
  {
   "cell_type": "code",
   "execution_count": null,
   "metadata": {
    "collapsed": true,
    "deletable": true,
    "editable": true
   },
   "outputs": [],
   "source": []
  },
  {
   "cell_type": "code",
   "execution_count": null,
   "metadata": {
    "collapsed": false,
    "deletable": true,
    "editable": true
   },
   "outputs": [],
   "source": [
    "hsc_id in combined_tmp.index"
   ]
  },
  {
   "cell_type": "code",
   "execution_count": null,
   "metadata": {
    "collapsed": false,
    "deletable": true,
    "editable": true
   },
   "outputs": [],
   "source": [
    "hsc_id in matches.catalog_2.df[matches.mask_catalog_2].iloc[matches.idx[matches.mask_match]].index"
   ]
  },
  {
   "cell_type": "code",
   "execution_count": null,
   "metadata": {
    "collapsed": false,
    "deletable": true,
    "editable": true
   },
   "outputs": [],
   "source": [
    "hsc_id in combined_tmp.index"
   ]
  },
  {
   "cell_type": "code",
   "execution_count": null,
   "metadata": {
    "collapsed": true,
    "deletable": true,
    "editable": true
   },
   "outputs": [],
   "source": []
  },
  {
   "cell_type": "code",
   "execution_count": null,
   "metadata": {
    "collapsed": false,
    "deletable": true,
    "editable": true
   },
   "outputs": [],
   "source": [
    "combined_tmp.loc[hsc_id]"
   ]
  },
  {
   "cell_type": "code",
   "execution_count": null,
   "metadata": {
    "collapsed": false,
    "deletable": true,
    "editable": true
   },
   "outputs": [],
   "source": [
    "id_tmp = 43158996781122114\n",
    "combined_tmp.loc[id_tmp, \"ra\"]"
   ]
  },
  {
   "cell_type": "code",
   "execution_count": null,
   "metadata": {
    "collapsed": false,
    "deletable": true,
    "editable": true
   },
   "outputs": [],
   "source": [
    "combined_tmp.photo_z"
   ]
  },
  {
   "cell_type": "code",
   "execution_count": null,
   "metadata": {
    "collapsed": true,
    "deletable": true,
    "editable": true
   },
   "outputs": [],
   "source": []
  }
 ],
 "metadata": {
  "anaconda-cloud": {},
  "kernelspec": {
   "display_name": "Python [default]",
   "language": "python",
   "name": "python3"
  },
  "language_info": {
   "codemirror_mode": {
    "name": "ipython",
    "version": 3
   },
   "file_extension": ".py",
   "mimetype": "text/x-python",
   "name": "python",
   "nbconvert_exporter": "python",
   "pygments_lexer": "ipython3",
   "version": "3.5.2"
  }
 },
 "nbformat": 4,
 "nbformat_minor": 2
}

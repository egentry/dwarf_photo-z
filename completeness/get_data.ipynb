{
 "cells": [
  {
   "cell_type": "markdown",
   "metadata": {
    "deletable": true,
    "editable": true
   },
   "source": [
    "# Explanation\n",
    "\n",
    "The HSC data is too large to store as one sqlite database file using github.  So instead, it needs to be fetched by the user, separately from cloning the repository. This notebook is a work-in-progress to help automate that process, and make sure that the final schema is correct.\n",
    "\n",
    "## SQL Query\n",
    "In the future I'll actually write a script that queries + downloads the correct data. For now, you'll need to do it manually. You need to run a number (~6) queries of the form:\n",
    "\n",
    "    SELECT object_id, \n",
    "         ra, dec, \n",
    "         detect_is_patch_inner, detect_is_tract_inner,\n",
    "         detect_is_primary,\n",
    "         gcmodel_flux, gcmodel_flux_err,\n",
    "         gcmodel_flux_flags,\n",
    "         rcmodel_flux, rcmodel_flux_err,\n",
    "         rcmodel_flux_flags,\n",
    "         icmodel_flux, icmodel_flux_err,\n",
    "         icmodel_flux_flags,\n",
    "         zcmodel_flux, zcmodel_flux_err,\n",
    "         zcmodel_flux_flags,\n",
    "         ycmodel_flux, ycmodel_flux_err,\n",
    "         ycmodel_flux_flags\n",
    "            from pdr1_cosmos_widedepth_median.forced\n",
    "    LIMIT X\n",
    "    OFFSET Y\n",
    "    \n",
    "where you need to change `X` (in the `LIMIT` line) and `Y` (in the `OFFSET` line), so that you run a few queries on a subset of all the rows. (For examply, download 250,000 records at a time by using: `LIMIT 250000 OFFSET 0`, then `LIMIT 250000 OFFSET 250000`, and so on).  \n",
    "\n",
    "This will give you a number of partial sqlite files, which you will download into `data/partial_hsc_tables`.  This notebook then will combine those databases into a single table, and create a new sqlite file.\n",
    "\n",
    "## To do list:\n",
    "- add code that will actually query + download the correct data, using the command line tool provided by the HSC data release website."
   ]
  },
  {
   "cell_type": "markdown",
   "metadata": {
    "deletable": true,
    "editable": true
   },
   "source": [
    "# Code"
   ]
  },
  {
   "cell_type": "code",
   "execution_count": 1,
   "metadata": {
    "collapsed": true,
    "deletable": true,
    "editable": true
   },
   "outputs": [],
   "source": [
    "import glob\n",
    "import pandas as pd"
   ]
  },
  {
   "cell_type": "code",
   "execution_count": 5,
   "metadata": {
    "collapsed": false,
    "deletable": true,
    "editable": true
   },
   "outputs": [],
   "source": [
    "database_filenames = sorted(glob.glob(\"data/partial_hsc_tables/*.sqlite3\"))"
   ]
  },
  {
   "cell_type": "code",
   "execution_count": 11,
   "metadata": {
    "collapsed": false,
    "deletable": true,
    "editable": true
   },
   "outputs": [],
   "source": [
    "dfs = [pd.read_sql_table(\"table_1\", \"sqlite:///{}\".format(database_filename),\n",
    "                         index_col=\"object_id\")\n",
    "       for database_filename in database_filenames]"
   ]
  },
  {
   "cell_type": "code",
   "execution_count": 23,
   "metadata": {
    "collapsed": false,
    "deletable": true,
    "editable": true
   },
   "outputs": [
    {
     "data": {
      "text/html": [
       "<div>\n",
       "<table border=\"1\" class=\"dataframe\">\n",
       "  <thead>\n",
       "    <tr style=\"text-align: right;\">\n",
       "      <th></th>\n",
       "      <th>ra</th>\n",
       "      <th>dec</th>\n",
       "      <th>detect_is_patch_inner</th>\n",
       "      <th>detect_is_tract_inner</th>\n",
       "      <th>detect_is_primary</th>\n",
       "      <th>gcmodel_flux</th>\n",
       "      <th>gcmodel_flux_err</th>\n",
       "      <th>gcmodel_flux_flags</th>\n",
       "      <th>rcmodel_flux</th>\n",
       "      <th>rcmodel_flux_err</th>\n",
       "      <th>rcmodel_flux_flags</th>\n",
       "      <th>icmodel_flux</th>\n",
       "      <th>icmodel_flux_err</th>\n",
       "      <th>icmodel_flux_flags</th>\n",
       "      <th>zcmodel_flux</th>\n",
       "      <th>zcmodel_flux_err</th>\n",
       "      <th>zcmodel_flux_flags</th>\n",
       "      <th>ycmodel_flux</th>\n",
       "      <th>ycmodel_flux_err</th>\n",
       "      <th>ycmodel_flux_flags</th>\n",
       "    </tr>\n",
       "    <tr>\n",
       "      <th>object_id</th>\n",
       "      <th></th>\n",
       "      <th></th>\n",
       "      <th></th>\n",
       "      <th></th>\n",
       "      <th></th>\n",
       "      <th></th>\n",
       "      <th></th>\n",
       "      <th></th>\n",
       "      <th></th>\n",
       "      <th></th>\n",
       "      <th></th>\n",
       "      <th></th>\n",
       "      <th></th>\n",
       "      <th></th>\n",
       "      <th></th>\n",
       "      <th></th>\n",
       "      <th></th>\n",
       "      <th></th>\n",
       "      <th></th>\n",
       "      <th></th>\n",
       "    </tr>\n",
       "  </thead>\n",
       "  <tbody>\n",
       "    <tr>\n",
       "      <th>43158034708430849</th>\n",
       "      <td>150.897479</td>\n",
       "      <td>1.688999</td>\n",
       "      <td>False</td>\n",
       "      <td>True</td>\n",
       "      <td>False</td>\n",
       "      <td>1.022866e-30</td>\n",
       "      <td>3.236877e-31</td>\n",
       "      <td>False</td>\n",
       "      <td>NaN</td>\n",
       "      <td>NaN</td>\n",
       "      <td>None</td>\n",
       "      <td>3.268063e-30</td>\n",
       "      <td>3.964730e-31</td>\n",
       "      <td>False</td>\n",
       "      <td>1.879463e-31</td>\n",
       "      <td>5.945371e-31</td>\n",
       "      <td>False</td>\n",
       "      <td>7.561983e-30</td>\n",
       "      <td>2.600942e-30</td>\n",
       "      <td>False</td>\n",
       "    </tr>\n",
       "    <tr>\n",
       "      <th>43158034708430850</th>\n",
       "      <td>150.898466</td>\n",
       "      <td>1.689690</td>\n",
       "      <td>False</td>\n",
       "      <td>True</td>\n",
       "      <td>False</td>\n",
       "      <td>2.651496e-30</td>\n",
       "      <td>3.508947e-31</td>\n",
       "      <td>False</td>\n",
       "      <td>NaN</td>\n",
       "      <td>NaN</td>\n",
       "      <td>None</td>\n",
       "      <td>NaN</td>\n",
       "      <td>NaN</td>\n",
       "      <td>True</td>\n",
       "      <td>-6.070069e-31</td>\n",
       "      <td>5.435255e-31</td>\n",
       "      <td>False</td>\n",
       "      <td>5.880465e-30</td>\n",
       "      <td>2.467269e-30</td>\n",
       "      <td>False</td>\n",
       "    </tr>\n",
       "    <tr>\n",
       "      <th>43158034708430851</th>\n",
       "      <td>150.899683</td>\n",
       "      <td>1.691651</td>\n",
       "      <td>False</td>\n",
       "      <td>True</td>\n",
       "      <td>False</td>\n",
       "      <td>-1.578553e-31</td>\n",
       "      <td>3.363990e-31</td>\n",
       "      <td>False</td>\n",
       "      <td>NaN</td>\n",
       "      <td>NaN</td>\n",
       "      <td>None</td>\n",
       "      <td>NaN</td>\n",
       "      <td>NaN</td>\n",
       "      <td>True</td>\n",
       "      <td>1.345349e-29</td>\n",
       "      <td>7.116031e-31</td>\n",
       "      <td>False</td>\n",
       "      <td>6.750262e-31</td>\n",
       "      <td>2.719863e-30</td>\n",
       "      <td>False</td>\n",
       "    </tr>\n",
       "    <tr>\n",
       "      <th>43158034708430852</th>\n",
       "      <td>150.900281</td>\n",
       "      <td>1.691985</td>\n",
       "      <td>False</td>\n",
       "      <td>True</td>\n",
       "      <td>False</td>\n",
       "      <td>NaN</td>\n",
       "      <td>NaN</td>\n",
       "      <td>True</td>\n",
       "      <td>NaN</td>\n",
       "      <td>NaN</td>\n",
       "      <td>None</td>\n",
       "      <td>NaN</td>\n",
       "      <td>NaN</td>\n",
       "      <td>True</td>\n",
       "      <td>NaN</td>\n",
       "      <td>NaN</td>\n",
       "      <td>True</td>\n",
       "      <td>NaN</td>\n",
       "      <td>NaN</td>\n",
       "      <td>True</td>\n",
       "    </tr>\n",
       "    <tr>\n",
       "      <th>43158034708430853</th>\n",
       "      <td>150.903878</td>\n",
       "      <td>1.697209</td>\n",
       "      <td>True</td>\n",
       "      <td>True</td>\n",
       "      <td>True</td>\n",
       "      <td>NaN</td>\n",
       "      <td>NaN</td>\n",
       "      <td>True</td>\n",
       "      <td>NaN</td>\n",
       "      <td>NaN</td>\n",
       "      <td>None</td>\n",
       "      <td>NaN</td>\n",
       "      <td>NaN</td>\n",
       "      <td>True</td>\n",
       "      <td>NaN</td>\n",
       "      <td>NaN</td>\n",
       "      <td>True</td>\n",
       "      <td>NaN</td>\n",
       "      <td>NaN</td>\n",
       "      <td>True</td>\n",
       "    </tr>\n",
       "  </tbody>\n",
       "</table>\n",
       "</div>"
      ],
      "text/plain": [
       "                           ra       dec detect_is_patch_inner  \\\n",
       "object_id                                                       \n",
       "43158034708430849  150.897479  1.688999                 False   \n",
       "43158034708430850  150.898466  1.689690                 False   \n",
       "43158034708430851  150.899683  1.691651                 False   \n",
       "43158034708430852  150.900281  1.691985                 False   \n",
       "43158034708430853  150.903878  1.697209                  True   \n",
       "\n",
       "                  detect_is_tract_inner detect_is_primary  gcmodel_flux  \\\n",
       "object_id                                                                 \n",
       "43158034708430849                  True             False  1.022866e-30   \n",
       "43158034708430850                  True             False  2.651496e-30   \n",
       "43158034708430851                  True             False -1.578553e-31   \n",
       "43158034708430852                  True             False           NaN   \n",
       "43158034708430853                  True              True           NaN   \n",
       "\n",
       "                   gcmodel_flux_err gcmodel_flux_flags  rcmodel_flux  \\\n",
       "object_id                                                              \n",
       "43158034708430849      3.236877e-31              False           NaN   \n",
       "43158034708430850      3.508947e-31              False           NaN   \n",
       "43158034708430851      3.363990e-31              False           NaN   \n",
       "43158034708430852               NaN               True           NaN   \n",
       "43158034708430853               NaN               True           NaN   \n",
       "\n",
       "                   rcmodel_flux_err rcmodel_flux_flags  icmodel_flux  \\\n",
       "object_id                                                              \n",
       "43158034708430849               NaN               None  3.268063e-30   \n",
       "43158034708430850               NaN               None           NaN   \n",
       "43158034708430851               NaN               None           NaN   \n",
       "43158034708430852               NaN               None           NaN   \n",
       "43158034708430853               NaN               None           NaN   \n",
       "\n",
       "                   icmodel_flux_err icmodel_flux_flags  zcmodel_flux  \\\n",
       "object_id                                                              \n",
       "43158034708430849      3.964730e-31              False  1.879463e-31   \n",
       "43158034708430850               NaN               True -6.070069e-31   \n",
       "43158034708430851               NaN               True  1.345349e-29   \n",
       "43158034708430852               NaN               True           NaN   \n",
       "43158034708430853               NaN               True           NaN   \n",
       "\n",
       "                   zcmodel_flux_err zcmodel_flux_flags  ycmodel_flux  \\\n",
       "object_id                                                              \n",
       "43158034708430849      5.945371e-31              False  7.561983e-30   \n",
       "43158034708430850      5.435255e-31              False  5.880465e-30   \n",
       "43158034708430851      7.116031e-31              False  6.750262e-31   \n",
       "43158034708430852               NaN               True           NaN   \n",
       "43158034708430853               NaN               True           NaN   \n",
       "\n",
       "                   ycmodel_flux_err ycmodel_flux_flags  \n",
       "object_id                                               \n",
       "43158034708430849      2.600942e-30              False  \n",
       "43158034708430850      2.467269e-30              False  \n",
       "43158034708430851      2.719863e-30              False  \n",
       "43158034708430852               NaN               True  \n",
       "43158034708430853               NaN               True  "
      ]
     },
     "execution_count": 23,
     "metadata": {},
     "output_type": "execute_result"
    }
   ],
   "source": [
    "combined = pd.concat(dfs)\n",
    "combined.head()"
   ]
  },
  {
   "cell_type": "code",
   "execution_count": 17,
   "metadata": {
    "collapsed": false,
    "deletable": true,
    "editable": true
   },
   "outputs": [
    {
     "data": {
      "text/plain": [
       "(1263503, 20)"
      ]
     },
     "execution_count": 17,
     "metadata": {},
     "output_type": "execute_result"
    }
   ],
   "source": [
    "combined.shape"
   ]
  },
  {
   "cell_type": "code",
   "execution_count": 19,
   "metadata": {
    "collapsed": true,
    "deletable": true,
    "editable": true
   },
   "outputs": [],
   "source": [
    "hsc_database_filename = \"HSC_COSMOS_median_forced.sqlite3\"\n",
    "combined.to_sql(\"hsc\", \"sqlite:///{}\".format(hsc_database_filename))"
   ]
  },
  {
   "cell_type": "code",
   "execution_count": 22,
   "metadata": {
    "collapsed": false,
    "deletable": true,
    "editable": true
   },
   "outputs": [
    {
     "data": {
      "text/plain": [
       "Index(['ra', 'dec', 'detect_is_patch_inner', 'detect_is_tract_inner',\n",
       "       'detect_is_primary', 'gcmodel_flux', 'gcmodel_flux_err',\n",
       "       'gcmodel_flux_flags', 'rcmodel_flux', 'rcmodel_flux_err',\n",
       "       'rcmodel_flux_flags', 'icmodel_flux', 'icmodel_flux_err',\n",
       "       'icmodel_flux_flags', 'zcmodel_flux', 'zcmodel_flux_err',\n",
       "       'zcmodel_flux_flags', 'ycmodel_flux', 'ycmodel_flux_err',\n",
       "       'ycmodel_flux_flags'],\n",
       "      dtype='object')"
      ]
     },
     "execution_count": 22,
     "metadata": {},
     "output_type": "execute_result"
    }
   ],
   "source": [
    "combined.keys()"
   ]
  },
  {
   "cell_type": "code",
   "execution_count": null,
   "metadata": {
    "collapsed": true,
    "deletable": true,
    "editable": true
   },
   "outputs": [],
   "source": []
  }
 ],
 "metadata": {
  "anaconda-cloud": {},
  "kernelspec": {
   "display_name": "Python [default]",
   "language": "python",
   "name": "python3"
  },
  "language_info": {
   "codemirror_mode": {
    "name": "ipython",
    "version": 3
   },
   "file_extension": ".py",
   "mimetype": "text/x-python",
   "name": "python",
   "nbconvert_exporter": "python",
   "pygments_lexer": "ipython3",
   "version": "3.5.3"
  }
 },
 "nbformat": 4,
 "nbformat_minor": 2
}

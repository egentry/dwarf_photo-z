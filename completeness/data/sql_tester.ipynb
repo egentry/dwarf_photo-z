{
 "cells": [
  {
   "cell_type": "markdown",
   "metadata": {},
   "source": [
    "\n",
    " **Remember to set your credentials within `hsc_credentials.py` !**"
   ]
  },
  {
   "cell_type": "code",
   "execution_count": 1,
   "metadata": {
    "collapsed": true
   },
   "outputs": [],
   "source": [
    "from hsc_credentials import credential"
   ]
  },
  {
   "cell_type": "code",
   "execution_count": 2,
   "metadata": {
    "collapsed": true
   },
   "outputs": [],
   "source": [
    "from hscReleaseQuery import query_wrapper"
   ]
  },
  {
   "cell_type": "markdown",
   "metadata": {},
   "source": [
    "# Build the query"
   ]
  },
  {
   "cell_type": "code",
   "execution_count": 3,
   "metadata": {
    "collapsed": true
   },
   "outputs": [],
   "source": [
    "test_sql = \"\"\"SELECT \n",
    "    object_id, \n",
    "    ra, dec, \n",
    "    detect_is_patch_inner, detect_is_tract_inner,\n",
    "    detect_is_primary\n",
    "        from pdr1_cosmos_widedepth_median.forced\n",
    "    LIMIT 10\n",
    "    OFFSET 5\"\"\""
   ]
  },
  {
   "cell_type": "markdown",
   "metadata": {},
   "source": [
    "# Make the query"
   ]
  },
  {
   "cell_type": "code",
   "execution_count": 4,
   "metadata": {
    "collapsed": false
   },
   "outputs": [],
   "source": [
    "preview_results = False\n",
    "delete_job = True\n",
    "out_format = \"csv\"\n",
    "\n",
    "with open(\"result\", mode=\"wb\") as output_file:\n",
    "    query_wrapper(credential, test_sql, preview_results, delete_job, out_format, output_file)"
   ]
  },
  {
   "cell_type": "markdown",
   "metadata": {},
   "source": [
    "# Check if it worked"
   ]
  },
  {
   "cell_type": "code",
   "execution_count": 5,
   "metadata": {
    "collapsed": false
   },
   "outputs": [
    {
     "name": "stdout",
     "output_type": "stream",
     "text": [
      "# name,# catalog-job 2017-04-05\r",
      "\r\n",
      "# SQL,\"# SELECT \r\n",
      "#     object_id, \r\n",
      "#     ra, dec, \r\n",
      "#     detect_is_patch_inner, detect_is_tract_inner,\r\n",
      "#     detect_is_primary\r\n",
      "#         from pdr1_cosmos_widedepth_median.forced\r\n",
      "#     LIMIT 10\r\n",
      "#     OFFSET 5\"\r",
      "\r\n",
      "#\r",
      "\r\n",
      "# object_id,ra,dec,detect_is_patch_inner,detect_is_tract_inner,detect_is_primary\r",
      "\r\n",
      "43158034708430854,150.90472660446997,1.6976213644180216,True,True,False\r",
      "\r\n",
      "43158034708430855,150.90243683873757,1.6983979279931523,True,True,False\r",
      "\r\n",
      "43158034708430856,150.90179531447077,1.6994168060173407,True,True,False\r",
      "\r\n",
      "43158034708430858,150.89888446226797,1.7000105281241082,False,True,False\r",
      "\r\n",
      "43158034708430859,150.9028651757583,1.7001154457730001,True,True,True\r",
      "\r\n",
      "43158034708430860,150.903786749823,1.702201872359366,True,True,False\r",
      "\r\n",
      "43158034708430861,150.90616669699625,1.7006612951143518,True,True,True\r",
      "\r\n",
      "43158034708430864,150.89983909236133,1.7024501570901696,False,True,False\r",
      "\r\n",
      "43158034708430866,150.9090371564681,1.7056467321973665,True,True,True\r",
      "\r\n",
      "43158034708430867,150.89758020624652,1.706263367861842,False,True,False\r",
      "\r\n"
     ]
    }
   ],
   "source": [
    "!cat result"
   ]
  }
 ],
 "metadata": {
  "kernelspec": {
   "display_name": "Python [default]",
   "language": "python",
   "name": "python3"
  },
  "language_info": {
   "codemirror_mode": {
    "name": "ipython",
    "version": 3
   },
   "file_extension": ".py",
   "mimetype": "text/x-python",
   "name": "python",
   "nbconvert_exporter": "python",
   "pygments_lexer": "ipython3",
   "version": "3.5.2"
  }
 },
 "nbformat": 4,
 "nbformat_minor": 2
}
